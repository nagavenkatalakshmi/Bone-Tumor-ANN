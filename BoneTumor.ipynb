{
 "cells": [
  {
   "cell_type": "code",
   "execution_count": 84,
   "id": "53da0433",
   "metadata": {},
   "outputs": [],
   "source": [
    "import pandas as pd\n",
    "import numpy as np\n",
    "#visulization\n",
    "from matplotlib import pyplot as plt\n",
    "%matplotlib inline\n",
    "import seaborn as sns\n",
    "sns.set(style=\"whitegrid\")\n",
    "# data preprocessing\n",
    "from sklearn.model_selection import train_test_split, GridSearchCV\n",
    "from sklearn.impute import SimpleImputer\n",
    "from sklearn.preprocessing import OneHotEncoder,StandardScaler,LabelEncoder\n",
    "from sklearn.preprocessing import StandardScaler,MinMaxScaler\n",
    "from keras.models import Sequential\n",
    "from keras.layers import Dense\n",
    "from sklearn.neural_network import MLPClassifier\n",
    "from sklearn.metrics import classification_report\n",
    "\n",
    "import warnings\n",
    "warnings.filterwarnings('ignore')"
   ]
  },
  {
   "cell_type": "code",
   "execution_count": 85,
   "id": "4beb2bc0",
   "metadata": {},
   "outputs": [
    {
     "data": {
      "text/html": [
       "<div>\n",
       "<style scoped>\n",
       "    .dataframe tbody tr th:only-of-type {\n",
       "        vertical-align: middle;\n",
       "    }\n",
       "\n",
       "    .dataframe tbody tr th {\n",
       "        vertical-align: top;\n",
       "    }\n",
       "\n",
       "    .dataframe thead th {\n",
       "        text-align: right;\n",
       "    }\n",
       "</style>\n",
       "<table border=\"1\" class=\"dataframe\">\n",
       "  <thead>\n",
       "    <tr style=\"text-align: right;\">\n",
       "      <th></th>\n",
       "      <th>Patient ID</th>\n",
       "      <th>Sex</th>\n",
       "      <th>Age</th>\n",
       "      <th>Grade</th>\n",
       "      <th>Histological type</th>\n",
       "      <th>MSKCC type</th>\n",
       "      <th>Site of primary STS</th>\n",
       "      <th>Status (NED, AWD, D)</th>\n",
       "      <th>Treatment</th>\n",
       "    </tr>\n",
       "  </thead>\n",
       "  <tbody>\n",
       "    <tr>\n",
       "      <th>0</th>\n",
       "      <td>STS_022</td>\n",
       "      <td>Female</td>\n",
       "      <td>63</td>\n",
       "      <td>High</td>\n",
       "      <td>pleiomorphic leiomyosarcoma</td>\n",
       "      <td>Leiomyosarcoma</td>\n",
       "      <td>parascapusular</td>\n",
       "      <td>NED</td>\n",
       "      <td>Radiotherapy + Surgery</td>\n",
       "    </tr>\n",
       "    <tr>\n",
       "      <th>1</th>\n",
       "      <td>STS_034</td>\n",
       "      <td>Female</td>\n",
       "      <td>54</td>\n",
       "      <td>Intermediate</td>\n",
       "      <td>pleiomorphic leiomyosarcoma</td>\n",
       "      <td>MFH</td>\n",
       "      <td>left thigh</td>\n",
       "      <td>D</td>\n",
       "      <td>Surgery + Chemotherapy</td>\n",
       "    </tr>\n",
       "    <tr>\n",
       "      <th>2</th>\n",
       "      <td>STS_022</td>\n",
       "      <td>Male</td>\n",
       "      <td>22</td>\n",
       "      <td>Intermediate</td>\n",
       "      <td>synovial sarcoma</td>\n",
       "      <td>MFH</td>\n",
       "      <td>right buttock</td>\n",
       "      <td>D</td>\n",
       "      <td>Radiotherapy + Surgery</td>\n",
       "    </tr>\n",
       "    <tr>\n",
       "      <th>3</th>\n",
       "      <td>STS_015</td>\n",
       "      <td>Female</td>\n",
       "      <td>54</td>\n",
       "      <td>Intermediate</td>\n",
       "      <td>synovial sarcoma</td>\n",
       "      <td>Leiomyosarcoma</td>\n",
       "      <td>right thigh</td>\n",
       "      <td>NED</td>\n",
       "      <td>Radiotherapy + Surgery</td>\n",
       "    </tr>\n",
       "    <tr>\n",
       "      <th>4</th>\n",
       "      <td>STS_037</td>\n",
       "      <td>Male</td>\n",
       "      <td>63</td>\n",
       "      <td>High</td>\n",
       "      <td>pleiomorphic spindle cell undifferentiated</td>\n",
       "      <td>MFH</td>\n",
       "      <td>right parascapusular</td>\n",
       "      <td>AWD</td>\n",
       "      <td>Radiotherapy + Surgery + Chemotherapy</td>\n",
       "    </tr>\n",
       "    <tr>\n",
       "      <th>...</th>\n",
       "      <td>...</td>\n",
       "      <td>...</td>\n",
       "      <td>...</td>\n",
       "      <td>...</td>\n",
       "      <td>...</td>\n",
       "      <td>...</td>\n",
       "      <td>...</td>\n",
       "      <td>...</td>\n",
       "      <td>...</td>\n",
       "    </tr>\n",
       "    <tr>\n",
       "      <th>495</th>\n",
       "      <td>STS_011</td>\n",
       "      <td>Male</td>\n",
       "      <td>31</td>\n",
       "      <td>Intermediate</td>\n",
       "      <td>epithelioid sarcoma</td>\n",
       "      <td>MFH</td>\n",
       "      <td>left thigh</td>\n",
       "      <td>D</td>\n",
       "      <td>Surgery + Chemotherapy</td>\n",
       "    </tr>\n",
       "    <tr>\n",
       "      <th>496</th>\n",
       "      <td>STS_021</td>\n",
       "      <td>Male</td>\n",
       "      <td>41</td>\n",
       "      <td>High</td>\n",
       "      <td>poorly differentiated synovial sarcoma</td>\n",
       "      <td>MFH</td>\n",
       "      <td>right parascapusular</td>\n",
       "      <td>AWD</td>\n",
       "      <td>Radiotherapy + Surgery + Chemotherapy</td>\n",
       "    </tr>\n",
       "    <tr>\n",
       "      <th>497</th>\n",
       "      <td>STS_034</td>\n",
       "      <td>Female</td>\n",
       "      <td>60</td>\n",
       "      <td>Intermediate</td>\n",
       "      <td>pleomorphic sarcoma</td>\n",
       "      <td>Synovial sarcoma</td>\n",
       "      <td>right thigh</td>\n",
       "      <td>NED</td>\n",
       "      <td>Radiotherapy + Surgery</td>\n",
       "    </tr>\n",
       "    <tr>\n",
       "      <th>498</th>\n",
       "      <td>STS_037</td>\n",
       "      <td>Male</td>\n",
       "      <td>43</td>\n",
       "      <td>High</td>\n",
       "      <td>synovial sarcoma</td>\n",
       "      <td>MFH</td>\n",
       "      <td>right thigh</td>\n",
       "      <td>D</td>\n",
       "      <td>Radiotherapy + Surgery + Chemotherapy</td>\n",
       "    </tr>\n",
       "    <tr>\n",
       "      <th>499</th>\n",
       "      <td>STS_034</td>\n",
       "      <td>Female</td>\n",
       "      <td>73</td>\n",
       "      <td>Intermediate</td>\n",
       "      <td>pleiomorphic leiomyosarcoma</td>\n",
       "      <td>Leiomyosarcoma</td>\n",
       "      <td>left biceps</td>\n",
       "      <td>NED</td>\n",
       "      <td>Radiotherapy + Surgery</td>\n",
       "    </tr>\n",
       "  </tbody>\n",
       "</table>\n",
       "<p>500 rows × 9 columns</p>\n",
       "</div>"
      ],
      "text/plain": [
       "    Patient ID     Sex  Age         Grade  \\\n",
       "0      STS_022  Female   63          High   \n",
       "1      STS_034  Female   54  Intermediate   \n",
       "2      STS_022    Male   22  Intermediate   \n",
       "3      STS_015  Female   54  Intermediate   \n",
       "4      STS_037    Male   63          High   \n",
       "..         ...     ...  ...           ...   \n",
       "495    STS_011    Male   31  Intermediate   \n",
       "496    STS_021    Male   41          High   \n",
       "497    STS_034  Female   60  Intermediate   \n",
       "498    STS_037    Male   43          High   \n",
       "499    STS_034  Female   73  Intermediate   \n",
       "\n",
       "                              Histological type        MSKCC type  \\\n",
       "0                   pleiomorphic leiomyosarcoma    Leiomyosarcoma   \n",
       "1                   pleiomorphic leiomyosarcoma               MFH   \n",
       "2                              synovial sarcoma               MFH   \n",
       "3                              synovial sarcoma    Leiomyosarcoma   \n",
       "4    pleiomorphic spindle cell undifferentiated               MFH   \n",
       "..                                          ...               ...   \n",
       "495                         epithelioid sarcoma               MFH   \n",
       "496      poorly differentiated synovial sarcoma               MFH   \n",
       "497                         pleomorphic sarcoma  Synovial sarcoma   \n",
       "498                            synovial sarcoma               MFH   \n",
       "499                 pleiomorphic leiomyosarcoma    Leiomyosarcoma   \n",
       "\n",
       "      Site of primary STS Status (NED, AWD, D)  \\\n",
       "0          parascapusular                  NED   \n",
       "1              left thigh                    D   \n",
       "2           right buttock                    D   \n",
       "3             right thigh                  NED   \n",
       "4    right parascapusular                  AWD   \n",
       "..                    ...                  ...   \n",
       "495            left thigh                    D   \n",
       "496  right parascapusular                  AWD   \n",
       "497           right thigh                  NED   \n",
       "498           right thigh                    D   \n",
       "499           left biceps                  NED   \n",
       "\n",
       "                                 Treatment  \n",
       "0                   Radiotherapy + Surgery  \n",
       "1                   Surgery + Chemotherapy  \n",
       "2                   Radiotherapy + Surgery  \n",
       "3                   Radiotherapy + Surgery  \n",
       "4    Radiotherapy + Surgery + Chemotherapy  \n",
       "..                                     ...  \n",
       "495                 Surgery + Chemotherapy  \n",
       "496  Radiotherapy + Surgery + Chemotherapy  \n",
       "497                 Radiotherapy + Surgery  \n",
       "498  Radiotherapy + Surgery + Chemotherapy  \n",
       "499                 Radiotherapy + Surgery  \n",
       "\n",
       "[500 rows x 9 columns]"
      ]
     },
     "execution_count": 85,
     "metadata": {},
     "output_type": "execute_result"
    }
   ],
   "source": [
    "df = pd.read_csv(\"Bone Tumor Dataset.csv\")\n",
    "df"
   ]
  },
  {
   "cell_type": "code",
   "execution_count": 86,
   "id": "62437bcf",
   "metadata": {},
   "outputs": [
    {
     "data": {
      "text/html": [
       "<div>\n",
       "<style scoped>\n",
       "    .dataframe tbody tr th:only-of-type {\n",
       "        vertical-align: middle;\n",
       "    }\n",
       "\n",
       "    .dataframe tbody tr th {\n",
       "        vertical-align: top;\n",
       "    }\n",
       "\n",
       "    .dataframe thead th {\n",
       "        text-align: right;\n",
       "    }\n",
       "</style>\n",
       "<table border=\"1\" class=\"dataframe\">\n",
       "  <thead>\n",
       "    <tr style=\"text-align: right;\">\n",
       "      <th></th>\n",
       "      <th>Patient ID</th>\n",
       "      <th>Sex</th>\n",
       "      <th>Age</th>\n",
       "      <th>Grade</th>\n",
       "      <th>Histological type</th>\n",
       "      <th>MSKCC type</th>\n",
       "      <th>Site of primary STS</th>\n",
       "      <th>Status (NED, AWD, D)</th>\n",
       "      <th>Treatment</th>\n",
       "    </tr>\n",
       "  </thead>\n",
       "  <tbody>\n",
       "    <tr>\n",
       "      <th>0</th>\n",
       "      <td>STS_022</td>\n",
       "      <td>Female</td>\n",
       "      <td>63</td>\n",
       "      <td>High</td>\n",
       "      <td>pleiomorphic leiomyosarcoma</td>\n",
       "      <td>Leiomyosarcoma</td>\n",
       "      <td>parascapusular</td>\n",
       "      <td>NED</td>\n",
       "      <td>Radiotherapy + Surgery</td>\n",
       "    </tr>\n",
       "    <tr>\n",
       "      <th>1</th>\n",
       "      <td>STS_034</td>\n",
       "      <td>Female</td>\n",
       "      <td>54</td>\n",
       "      <td>Intermediate</td>\n",
       "      <td>pleiomorphic leiomyosarcoma</td>\n",
       "      <td>MFH</td>\n",
       "      <td>left thigh</td>\n",
       "      <td>D</td>\n",
       "      <td>Surgery + Chemotherapy</td>\n",
       "    </tr>\n",
       "    <tr>\n",
       "      <th>2</th>\n",
       "      <td>STS_022</td>\n",
       "      <td>Male</td>\n",
       "      <td>22</td>\n",
       "      <td>Intermediate</td>\n",
       "      <td>synovial sarcoma</td>\n",
       "      <td>MFH</td>\n",
       "      <td>right buttock</td>\n",
       "      <td>D</td>\n",
       "      <td>Radiotherapy + Surgery</td>\n",
       "    </tr>\n",
       "    <tr>\n",
       "      <th>3</th>\n",
       "      <td>STS_015</td>\n",
       "      <td>Female</td>\n",
       "      <td>54</td>\n",
       "      <td>Intermediate</td>\n",
       "      <td>synovial sarcoma</td>\n",
       "      <td>Leiomyosarcoma</td>\n",
       "      <td>right thigh</td>\n",
       "      <td>NED</td>\n",
       "      <td>Radiotherapy + Surgery</td>\n",
       "    </tr>\n",
       "    <tr>\n",
       "      <th>4</th>\n",
       "      <td>STS_037</td>\n",
       "      <td>Male</td>\n",
       "      <td>63</td>\n",
       "      <td>High</td>\n",
       "      <td>pleiomorphic spindle cell undifferentiated</td>\n",
       "      <td>MFH</td>\n",
       "      <td>right parascapusular</td>\n",
       "      <td>AWD</td>\n",
       "      <td>Radiotherapy + Surgery + Chemotherapy</td>\n",
       "    </tr>\n",
       "    <tr>\n",
       "      <th>...</th>\n",
       "      <td>...</td>\n",
       "      <td>...</td>\n",
       "      <td>...</td>\n",
       "      <td>...</td>\n",
       "      <td>...</td>\n",
       "      <td>...</td>\n",
       "      <td>...</td>\n",
       "      <td>...</td>\n",
       "      <td>...</td>\n",
       "    </tr>\n",
       "    <tr>\n",
       "      <th>495</th>\n",
       "      <td>STS_011</td>\n",
       "      <td>Male</td>\n",
       "      <td>31</td>\n",
       "      <td>Intermediate</td>\n",
       "      <td>epithelioid sarcoma</td>\n",
       "      <td>MFH</td>\n",
       "      <td>left thigh</td>\n",
       "      <td>D</td>\n",
       "      <td>Surgery + Chemotherapy</td>\n",
       "    </tr>\n",
       "    <tr>\n",
       "      <th>496</th>\n",
       "      <td>STS_021</td>\n",
       "      <td>Male</td>\n",
       "      <td>41</td>\n",
       "      <td>High</td>\n",
       "      <td>poorly differentiated synovial sarcoma</td>\n",
       "      <td>MFH</td>\n",
       "      <td>right parascapusular</td>\n",
       "      <td>AWD</td>\n",
       "      <td>Radiotherapy + Surgery + Chemotherapy</td>\n",
       "    </tr>\n",
       "    <tr>\n",
       "      <th>497</th>\n",
       "      <td>STS_034</td>\n",
       "      <td>Female</td>\n",
       "      <td>60</td>\n",
       "      <td>Intermediate</td>\n",
       "      <td>pleomorphic sarcoma</td>\n",
       "      <td>Synovial sarcoma</td>\n",
       "      <td>right thigh</td>\n",
       "      <td>NED</td>\n",
       "      <td>Radiotherapy + Surgery</td>\n",
       "    </tr>\n",
       "    <tr>\n",
       "      <th>498</th>\n",
       "      <td>STS_037</td>\n",
       "      <td>Male</td>\n",
       "      <td>43</td>\n",
       "      <td>High</td>\n",
       "      <td>synovial sarcoma</td>\n",
       "      <td>MFH</td>\n",
       "      <td>right thigh</td>\n",
       "      <td>D</td>\n",
       "      <td>Radiotherapy + Surgery + Chemotherapy</td>\n",
       "    </tr>\n",
       "    <tr>\n",
       "      <th>499</th>\n",
       "      <td>STS_034</td>\n",
       "      <td>Female</td>\n",
       "      <td>73</td>\n",
       "      <td>Intermediate</td>\n",
       "      <td>pleiomorphic leiomyosarcoma</td>\n",
       "      <td>Leiomyosarcoma</td>\n",
       "      <td>left biceps</td>\n",
       "      <td>NED</td>\n",
       "      <td>Radiotherapy + Surgery</td>\n",
       "    </tr>\n",
       "  </tbody>\n",
       "</table>\n",
       "<p>500 rows × 9 columns</p>\n",
       "</div>"
      ],
      "text/plain": [
       "    Patient ID     Sex  Age         Grade  \\\n",
       "0      STS_022  Female   63          High   \n",
       "1      STS_034  Female   54  Intermediate   \n",
       "2      STS_022    Male   22  Intermediate   \n",
       "3      STS_015  Female   54  Intermediate   \n",
       "4      STS_037    Male   63          High   \n",
       "..         ...     ...  ...           ...   \n",
       "495    STS_011    Male   31  Intermediate   \n",
       "496    STS_021    Male   41          High   \n",
       "497    STS_034  Female   60  Intermediate   \n",
       "498    STS_037    Male   43          High   \n",
       "499    STS_034  Female   73  Intermediate   \n",
       "\n",
       "                              Histological type        MSKCC type  \\\n",
       "0                   pleiomorphic leiomyosarcoma    Leiomyosarcoma   \n",
       "1                   pleiomorphic leiomyosarcoma               MFH   \n",
       "2                              synovial sarcoma               MFH   \n",
       "3                              synovial sarcoma    Leiomyosarcoma   \n",
       "4    pleiomorphic spindle cell undifferentiated               MFH   \n",
       "..                                          ...               ...   \n",
       "495                         epithelioid sarcoma               MFH   \n",
       "496      poorly differentiated synovial sarcoma               MFH   \n",
       "497                         pleomorphic sarcoma  Synovial sarcoma   \n",
       "498                            synovial sarcoma               MFH   \n",
       "499                 pleiomorphic leiomyosarcoma    Leiomyosarcoma   \n",
       "\n",
       "      Site of primary STS Status (NED, AWD, D)  \\\n",
       "0          parascapusular                  NED   \n",
       "1              left thigh                    D   \n",
       "2           right buttock                    D   \n",
       "3             right thigh                  NED   \n",
       "4    right parascapusular                  AWD   \n",
       "..                    ...                  ...   \n",
       "495            left thigh                    D   \n",
       "496  right parascapusular                  AWD   \n",
       "497           right thigh                  NED   \n",
       "498           right thigh                    D   \n",
       "499           left biceps                  NED   \n",
       "\n",
       "                                 Treatment  \n",
       "0                   Radiotherapy + Surgery  \n",
       "1                   Surgery + Chemotherapy  \n",
       "2                   Radiotherapy + Surgery  \n",
       "3                   Radiotherapy + Surgery  \n",
       "4    Radiotherapy + Surgery + Chemotherapy  \n",
       "..                                     ...  \n",
       "495                 Surgery + Chemotherapy  \n",
       "496  Radiotherapy + Surgery + Chemotherapy  \n",
       "497                 Radiotherapy + Surgery  \n",
       "498  Radiotherapy + Surgery + Chemotherapy  \n",
       "499                 Radiotherapy + Surgery  \n",
       "\n",
       "[500 rows x 9 columns]"
      ]
     },
     "execution_count": 86,
     "metadata": {},
     "output_type": "execute_result"
    }
   ],
   "source": [
    "df"
   ]
  },
  {
   "cell_type": "code",
   "execution_count": 87,
   "id": "111abd8f",
   "metadata": {},
   "outputs": [
    {
     "data": {
      "text/html": [
       "<div>\n",
       "<style scoped>\n",
       "    .dataframe tbody tr th:only-of-type {\n",
       "        vertical-align: middle;\n",
       "    }\n",
       "\n",
       "    .dataframe tbody tr th {\n",
       "        vertical-align: top;\n",
       "    }\n",
       "\n",
       "    .dataframe thead th {\n",
       "        text-align: right;\n",
       "    }\n",
       "</style>\n",
       "<table border=\"1\" class=\"dataframe\">\n",
       "  <thead>\n",
       "    <tr style=\"text-align: right;\">\n",
       "      <th></th>\n",
       "      <th>Patient ID</th>\n",
       "      <th>Sex</th>\n",
       "      <th>Age</th>\n",
       "      <th>Grade</th>\n",
       "      <th>Histological type</th>\n",
       "      <th>MSKCC type</th>\n",
       "      <th>Site of primary STS</th>\n",
       "      <th>Status (NED, AWD, D)</th>\n",
       "      <th>Treatment</th>\n",
       "    </tr>\n",
       "  </thead>\n",
       "  <tbody>\n",
       "    <tr>\n",
       "      <th>0</th>\n",
       "      <td>STS_022</td>\n",
       "      <td>Female</td>\n",
       "      <td>63</td>\n",
       "      <td>High</td>\n",
       "      <td>pleiomorphic leiomyosarcoma</td>\n",
       "      <td>Leiomyosarcoma</td>\n",
       "      <td>parascapusular</td>\n",
       "      <td>NED</td>\n",
       "      <td>Radiotherapy + Surgery</td>\n",
       "    </tr>\n",
       "    <tr>\n",
       "      <th>1</th>\n",
       "      <td>STS_034</td>\n",
       "      <td>Female</td>\n",
       "      <td>54</td>\n",
       "      <td>Intermediate</td>\n",
       "      <td>pleiomorphic leiomyosarcoma</td>\n",
       "      <td>MFH</td>\n",
       "      <td>left thigh</td>\n",
       "      <td>D</td>\n",
       "      <td>Surgery + Chemotherapy</td>\n",
       "    </tr>\n",
       "    <tr>\n",
       "      <th>2</th>\n",
       "      <td>STS_022</td>\n",
       "      <td>Male</td>\n",
       "      <td>22</td>\n",
       "      <td>Intermediate</td>\n",
       "      <td>synovial sarcoma</td>\n",
       "      <td>MFH</td>\n",
       "      <td>right buttock</td>\n",
       "      <td>D</td>\n",
       "      <td>Radiotherapy + Surgery</td>\n",
       "    </tr>\n",
       "    <tr>\n",
       "      <th>3</th>\n",
       "      <td>STS_015</td>\n",
       "      <td>Female</td>\n",
       "      <td>54</td>\n",
       "      <td>Intermediate</td>\n",
       "      <td>synovial sarcoma</td>\n",
       "      <td>Leiomyosarcoma</td>\n",
       "      <td>right thigh</td>\n",
       "      <td>NED</td>\n",
       "      <td>Radiotherapy + Surgery</td>\n",
       "    </tr>\n",
       "    <tr>\n",
       "      <th>4</th>\n",
       "      <td>STS_037</td>\n",
       "      <td>Male</td>\n",
       "      <td>63</td>\n",
       "      <td>High</td>\n",
       "      <td>pleiomorphic spindle cell undifferentiated</td>\n",
       "      <td>MFH</td>\n",
       "      <td>right parascapusular</td>\n",
       "      <td>AWD</td>\n",
       "      <td>Radiotherapy + Surgery + Chemotherapy</td>\n",
       "    </tr>\n",
       "  </tbody>\n",
       "</table>\n",
       "</div>"
      ],
      "text/plain": [
       "  Patient ID     Sex  Age         Grade  \\\n",
       "0    STS_022  Female   63          High   \n",
       "1    STS_034  Female   54  Intermediate   \n",
       "2    STS_022    Male   22  Intermediate   \n",
       "3    STS_015  Female   54  Intermediate   \n",
       "4    STS_037    Male   63          High   \n",
       "\n",
       "                            Histological type      MSKCC type  \\\n",
       "0                 pleiomorphic leiomyosarcoma  Leiomyosarcoma   \n",
       "1                 pleiomorphic leiomyosarcoma             MFH   \n",
       "2                            synovial sarcoma             MFH   \n",
       "3                            synovial sarcoma  Leiomyosarcoma   \n",
       "4  pleiomorphic spindle cell undifferentiated             MFH   \n",
       "\n",
       "    Site of primary STS Status (NED, AWD, D)  \\\n",
       "0        parascapusular                  NED   \n",
       "1            left thigh                    D   \n",
       "2         right buttock                    D   \n",
       "3           right thigh                  NED   \n",
       "4  right parascapusular                  AWD   \n",
       "\n",
       "                               Treatment  \n",
       "0                 Radiotherapy + Surgery  \n",
       "1                 Surgery + Chemotherapy  \n",
       "2                 Radiotherapy + Surgery  \n",
       "3                 Radiotherapy + Surgery  \n",
       "4  Radiotherapy + Surgery + Chemotherapy  "
      ]
     },
     "execution_count": 87,
     "metadata": {},
     "output_type": "execute_result"
    }
   ],
   "source": [
    "df.head()"
   ]
  },
  {
   "cell_type": "code",
   "execution_count": 88,
   "id": "a8c7d719",
   "metadata": {},
   "outputs": [
    {
     "data": {
      "text/html": [
       "<div>\n",
       "<style scoped>\n",
       "    .dataframe tbody tr th:only-of-type {\n",
       "        vertical-align: middle;\n",
       "    }\n",
       "\n",
       "    .dataframe tbody tr th {\n",
       "        vertical-align: top;\n",
       "    }\n",
       "\n",
       "    .dataframe thead th {\n",
       "        text-align: right;\n",
       "    }\n",
       "</style>\n",
       "<table border=\"1\" class=\"dataframe\">\n",
       "  <thead>\n",
       "    <tr style=\"text-align: right;\">\n",
       "      <th></th>\n",
       "      <th>Patient ID</th>\n",
       "      <th>Sex</th>\n",
       "      <th>Age</th>\n",
       "      <th>Grade</th>\n",
       "      <th>Histological type</th>\n",
       "      <th>MSKCC type</th>\n",
       "      <th>Site of primary STS</th>\n",
       "      <th>Status (NED, AWD, D)</th>\n",
       "      <th>Treatment</th>\n",
       "    </tr>\n",
       "  </thead>\n",
       "  <tbody>\n",
       "    <tr>\n",
       "      <th>495</th>\n",
       "      <td>STS_011</td>\n",
       "      <td>Male</td>\n",
       "      <td>31</td>\n",
       "      <td>Intermediate</td>\n",
       "      <td>epithelioid sarcoma</td>\n",
       "      <td>MFH</td>\n",
       "      <td>left thigh</td>\n",
       "      <td>D</td>\n",
       "      <td>Surgery + Chemotherapy</td>\n",
       "    </tr>\n",
       "    <tr>\n",
       "      <th>496</th>\n",
       "      <td>STS_021</td>\n",
       "      <td>Male</td>\n",
       "      <td>41</td>\n",
       "      <td>High</td>\n",
       "      <td>poorly differentiated synovial sarcoma</td>\n",
       "      <td>MFH</td>\n",
       "      <td>right parascapusular</td>\n",
       "      <td>AWD</td>\n",
       "      <td>Radiotherapy + Surgery + Chemotherapy</td>\n",
       "    </tr>\n",
       "    <tr>\n",
       "      <th>497</th>\n",
       "      <td>STS_034</td>\n",
       "      <td>Female</td>\n",
       "      <td>60</td>\n",
       "      <td>Intermediate</td>\n",
       "      <td>pleomorphic sarcoma</td>\n",
       "      <td>Synovial sarcoma</td>\n",
       "      <td>right thigh</td>\n",
       "      <td>NED</td>\n",
       "      <td>Radiotherapy + Surgery</td>\n",
       "    </tr>\n",
       "    <tr>\n",
       "      <th>498</th>\n",
       "      <td>STS_037</td>\n",
       "      <td>Male</td>\n",
       "      <td>43</td>\n",
       "      <td>High</td>\n",
       "      <td>synovial sarcoma</td>\n",
       "      <td>MFH</td>\n",
       "      <td>right thigh</td>\n",
       "      <td>D</td>\n",
       "      <td>Radiotherapy + Surgery + Chemotherapy</td>\n",
       "    </tr>\n",
       "    <tr>\n",
       "      <th>499</th>\n",
       "      <td>STS_034</td>\n",
       "      <td>Female</td>\n",
       "      <td>73</td>\n",
       "      <td>Intermediate</td>\n",
       "      <td>pleiomorphic leiomyosarcoma</td>\n",
       "      <td>Leiomyosarcoma</td>\n",
       "      <td>left biceps</td>\n",
       "      <td>NED</td>\n",
       "      <td>Radiotherapy + Surgery</td>\n",
       "    </tr>\n",
       "  </tbody>\n",
       "</table>\n",
       "</div>"
      ],
      "text/plain": [
       "    Patient ID     Sex  Age         Grade  \\\n",
       "495    STS_011    Male   31  Intermediate   \n",
       "496    STS_021    Male   41          High   \n",
       "497    STS_034  Female   60  Intermediate   \n",
       "498    STS_037    Male   43          High   \n",
       "499    STS_034  Female   73  Intermediate   \n",
       "\n",
       "                          Histological type        MSKCC type  \\\n",
       "495                     epithelioid sarcoma               MFH   \n",
       "496  poorly differentiated synovial sarcoma               MFH   \n",
       "497                     pleomorphic sarcoma  Synovial sarcoma   \n",
       "498                        synovial sarcoma               MFH   \n",
       "499             pleiomorphic leiomyosarcoma    Leiomyosarcoma   \n",
       "\n",
       "      Site of primary STS Status (NED, AWD, D)  \\\n",
       "495            left thigh                    D   \n",
       "496  right parascapusular                  AWD   \n",
       "497           right thigh                  NED   \n",
       "498           right thigh                    D   \n",
       "499           left biceps                  NED   \n",
       "\n",
       "                                 Treatment  \n",
       "495                 Surgery + Chemotherapy  \n",
       "496  Radiotherapy + Surgery + Chemotherapy  \n",
       "497                 Radiotherapy + Surgery  \n",
       "498  Radiotherapy + Surgery + Chemotherapy  \n",
       "499                 Radiotherapy + Surgery  "
      ]
     },
     "execution_count": 88,
     "metadata": {},
     "output_type": "execute_result"
    }
   ],
   "source": [
    "df.tail()"
   ]
  },
  {
   "cell_type": "code",
   "execution_count": 89,
   "id": "0bc3ed6b",
   "metadata": {},
   "outputs": [
    {
     "data": {
      "text/plain": [
       "Index(['Patient ID', 'Sex', 'Age', 'Grade', 'Histological type', 'MSKCC type',\n",
       "       'Site of primary STS', 'Status (NED, AWD, D)', 'Treatment'],\n",
       "      dtype='object')"
      ]
     },
     "execution_count": 89,
     "metadata": {},
     "output_type": "execute_result"
    }
   ],
   "source": [
    "df.columns"
   ]
  },
  {
   "cell_type": "code",
   "execution_count": 90,
   "id": "cfdc0621",
   "metadata": {},
   "outputs": [
    {
     "data": {
      "text/html": [
       "<div>\n",
       "<style scoped>\n",
       "    .dataframe tbody tr th:only-of-type {\n",
       "        vertical-align: middle;\n",
       "    }\n",
       "\n",
       "    .dataframe tbody tr th {\n",
       "        vertical-align: top;\n",
       "    }\n",
       "\n",
       "    .dataframe thead th {\n",
       "        text-align: right;\n",
       "    }\n",
       "</style>\n",
       "<table border=\"1\" class=\"dataframe\">\n",
       "  <thead>\n",
       "    <tr style=\"text-align: right;\">\n",
       "      <th></th>\n",
       "      <th>Age</th>\n",
       "    </tr>\n",
       "  </thead>\n",
       "  <tbody>\n",
       "    <tr>\n",
       "      <th>count</th>\n",
       "      <td>500.000000</td>\n",
       "    </tr>\n",
       "    <tr>\n",
       "      <th>mean</th>\n",
       "      <td>55.396000</td>\n",
       "    </tr>\n",
       "    <tr>\n",
       "      <th>std</th>\n",
       "      <td>16.131573</td>\n",
       "    </tr>\n",
       "    <tr>\n",
       "      <th>min</th>\n",
       "      <td>17.000000</td>\n",
       "    </tr>\n",
       "    <tr>\n",
       "      <th>25%</th>\n",
       "      <td>44.000000</td>\n",
       "    </tr>\n",
       "    <tr>\n",
       "      <th>50%</th>\n",
       "      <td>56.000000</td>\n",
       "    </tr>\n",
       "    <tr>\n",
       "      <th>75%</th>\n",
       "      <td>68.000000</td>\n",
       "    </tr>\n",
       "    <tr>\n",
       "      <th>max</th>\n",
       "      <td>83.000000</td>\n",
       "    </tr>\n",
       "  </tbody>\n",
       "</table>\n",
       "</div>"
      ],
      "text/plain": [
       "              Age\n",
       "count  500.000000\n",
       "mean    55.396000\n",
       "std     16.131573\n",
       "min     17.000000\n",
       "25%     44.000000\n",
       "50%     56.000000\n",
       "75%     68.000000\n",
       "max     83.000000"
      ]
     },
     "execution_count": 90,
     "metadata": {},
     "output_type": "execute_result"
    }
   ],
   "source": [
    "df.describe()"
   ]
  },
  {
   "cell_type": "code",
   "execution_count": 91,
   "id": "ba6ade19",
   "metadata": {},
   "outputs": [
    {
     "name": "stdout",
     "output_type": "stream",
     "text": [
      "<class 'pandas.core.frame.DataFrame'>\n",
      "RangeIndex: 500 entries, 0 to 499\n",
      "Data columns (total 9 columns):\n",
      " #   Column                Non-Null Count  Dtype \n",
      "---  ------                --------------  ----- \n",
      " 0   Patient ID            500 non-null    object\n",
      " 1   Sex                   500 non-null    object\n",
      " 2   Age                   500 non-null    int64 \n",
      " 3   Grade                 500 non-null    object\n",
      " 4   Histological type     500 non-null    object\n",
      " 5   MSKCC type            500 non-null    object\n",
      " 6   Site of primary STS   500 non-null    object\n",
      " 7   Status (NED, AWD, D)  500 non-null    object\n",
      " 8   Treatment             500 non-null    object\n",
      "dtypes: int64(1), object(8)\n",
      "memory usage: 35.3+ KB\n"
     ]
    }
   ],
   "source": [
    "df.info()"
   ]
  },
  {
   "cell_type": "code",
   "execution_count": 92,
   "id": "3c6c0d3f",
   "metadata": {},
   "outputs": [
    {
     "data": {
      "text/plain": [
       "(500, 9)"
      ]
     },
     "execution_count": 92,
     "metadata": {},
     "output_type": "execute_result"
    }
   ],
   "source": [
    "df.shape"
   ]
  },
  {
   "cell_type": "code",
   "execution_count": 93,
   "id": "7f75ecca",
   "metadata": {},
   "outputs": [
    {
     "data": {
      "text/plain": [
       "Patient ID              object\n",
       "Sex                     object\n",
       "Age                      int64\n",
       "Grade                   object\n",
       "Histological type       object\n",
       "MSKCC type              object\n",
       "Site of primary STS     object\n",
       "Status (NED, AWD, D)    object\n",
       "Treatment               object\n",
       "dtype: object"
      ]
     },
     "execution_count": 93,
     "metadata": {},
     "output_type": "execute_result"
    }
   ],
   "source": [
    "df.dtypes"
   ]
  },
  {
   "cell_type": "code",
   "execution_count": 94,
   "id": "3dce35d5",
   "metadata": {},
   "outputs": [
    {
     "data": {
      "text/plain": [
       "Patient ID              0\n",
       "Sex                     0\n",
       "Age                     0\n",
       "Grade                   0\n",
       "Histological type       0\n",
       "MSKCC type              0\n",
       "Site of primary STS     0\n",
       "Status (NED, AWD, D)    0\n",
       "Treatment               0\n",
       "dtype: int64"
      ]
     },
     "execution_count": 94,
     "metadata": {},
     "output_type": "execute_result"
    }
   ],
   "source": [
    "df.isna().sum()"
   ]
  },
  {
   "cell_type": "code",
   "execution_count": 95,
   "id": "aecb7d27",
   "metadata": {},
   "outputs": [
    {
     "data": {
      "text/plain": [
       "Patient ID              18\n",
       "Sex                      2\n",
       "Age                     65\n",
       "Grade                    2\n",
       "Histological type       13\n",
       "MSKCC type               3\n",
       "Site of primary STS      7\n",
       "Status (NED, AWD, D)     3\n",
       "Treatment                3\n",
       "dtype: int64"
      ]
     },
     "execution_count": 95,
     "metadata": {},
     "output_type": "execute_result"
    }
   ],
   "source": [
    "df.nunique()"
   ]
  },
  {
   "cell_type": "code",
   "execution_count": 96,
   "id": "f236e596",
   "metadata": {},
   "outputs": [
    {
     "data": {
      "text/plain": [
       "NED    247\n",
       "D      141\n",
       "AWD    112\n",
       "Name: Status (NED, AWD, D), dtype: int64"
      ]
     },
     "execution_count": 96,
     "metadata": {},
     "output_type": "execute_result"
    }
   ],
   "source": [
    "df['Status (NED, AWD, D)'].value_counts()"
   ]
  },
  {
   "cell_type": "code",
   "execution_count": 97,
   "id": "bed3d52f",
   "metadata": {},
   "outputs": [
    {
     "name": "stdout",
     "output_type": "stream",
     "text": [
      "['Leiomyosarcoma' 'MFH' 'Synovial sarcoma']\n"
     ]
    }
   ],
   "source": [
    "print(df['MSKCC type'].unique())"
   ]
  },
  {
   "cell_type": "code",
   "execution_count": 98,
   "id": "52f8e3c0",
   "metadata": {},
   "outputs": [
    {
     "data": {
      "text/plain": [
       "array(['STS_022', 'STS_034', 'STS_015', 'STS_037', 'STS_023', 'STS_041',\n",
       "       'STS_011', 'STS_012', 'STS_003', 'STS_039', 'STS_048', 'STS_002',\n",
       "       'STS_020', 'STS_005', 'STS_031', 'STS_021', 'STS_024', 'STS_029'],\n",
       "      dtype=object)"
      ]
     },
     "execution_count": 98,
     "metadata": {},
     "output_type": "execute_result"
    }
   ],
   "source": [
    "df['Patient ID'].unique()"
   ]
  },
  {
   "cell_type": "code",
   "execution_count": 99,
   "id": "a15f815b",
   "metadata": {},
   "outputs": [
    {
     "data": {
      "text/plain": [
       "83"
      ]
     },
     "execution_count": 99,
     "metadata": {},
     "output_type": "execute_result"
    }
   ],
   "source": [
    "df['Age'].max()"
   ]
  },
  {
   "cell_type": "code",
   "execution_count": 100,
   "id": "4047363b",
   "metadata": {},
   "outputs": [
    {
     "data": {
      "text/plain": [
       "array(['Female', 'Male'], dtype=object)"
      ]
     },
     "execution_count": 100,
     "metadata": {},
     "output_type": "execute_result"
    }
   ],
   "source": [
    "df['Sex'].unique()"
   ]
  },
  {
   "cell_type": "code",
   "execution_count": 101,
   "id": "24770d53",
   "metadata": {},
   "outputs": [
    {
     "data": {
      "text/plain": [
       "array(['High', 'Intermediate'], dtype=object)"
      ]
     },
     "execution_count": 101,
     "metadata": {},
     "output_type": "execute_result"
    }
   ],
   "source": [
    "df['Grade'].unique()"
   ]
  },
  {
   "cell_type": "code",
   "execution_count": 102,
   "id": "050cfeaf",
   "metadata": {},
   "outputs": [
    {
     "data": {
      "text/plain": [
       "array(['pleiomorphic leiomyosarcoma', 'synovial sarcoma',\n",
       "       'pleiomorphic spindle cell undifferentiated',\n",
       "       'poorly differentiated synovial sarcoma', 'myxoid fibrosarcoma',\n",
       "       'sclerosing epithelioid fibrosarcoma', 'leiomyosarcoma',\n",
       "       'malignant solitary fibrous tumor',\n",
       "       'undifferentiated pleomorphic liposarcoma', 'myxofibrosarcoma',\n",
       "       'epithelioid sarcoma', 'undifferentiated - pleiomorphic',\n",
       "       'pleomorphic sarcoma'], dtype=object)"
      ]
     },
     "execution_count": 102,
     "metadata": {},
     "output_type": "execute_result"
    }
   ],
   "source": [
    "df['Histological type'].unique()\n"
   ]
  },
  {
   "cell_type": "code",
   "execution_count": 103,
   "id": "a877ed4b",
   "metadata": {},
   "outputs": [
    {
     "data": {
      "text/plain": [
       "array(['parascapusular', 'left thigh', 'right buttock', 'right thigh',\n",
       "       'right parascapusular', 'left biceps', 'left buttock'],\n",
       "      dtype=object)"
      ]
     },
     "execution_count": 103,
     "metadata": {},
     "output_type": "execute_result"
    }
   ],
   "source": [
    "df['Site of primary STS'].unique()"
   ]
  },
  {
   "cell_type": "code",
   "execution_count": 104,
   "id": "b14e340b",
   "metadata": {},
   "outputs": [
    {
     "data": {
      "text/plain": [
       "array(['Radiotherapy + Surgery', 'Surgery + Chemotherapy',\n",
       "       'Radiotherapy + Surgery + Chemotherapy'], dtype=object)"
      ]
     },
     "execution_count": 104,
     "metadata": {},
     "output_type": "execute_result"
    }
   ],
   "source": [
    "df['Treatment'].unique()"
   ]
  },
  {
   "cell_type": "code",
   "execution_count": 105,
   "id": "8002f274",
   "metadata": {},
   "outputs": [
    {
     "data": {
      "text/html": [
       "<div>\n",
       "<style scoped>\n",
       "    .dataframe tbody tr th:only-of-type {\n",
       "        vertical-align: middle;\n",
       "    }\n",
       "\n",
       "    .dataframe tbody tr th {\n",
       "        vertical-align: top;\n",
       "    }\n",
       "\n",
       "    .dataframe thead th {\n",
       "        text-align: right;\n",
       "    }\n",
       "</style>\n",
       "<table border=\"1\" class=\"dataframe\">\n",
       "  <thead>\n",
       "    <tr style=\"text-align: right;\">\n",
       "      <th></th>\n",
       "      <th>Patient ID</th>\n",
       "      <th>Sex</th>\n",
       "      <th>Age</th>\n",
       "      <th>Grade</th>\n",
       "      <th>Histological type</th>\n",
       "      <th>MSKCC type</th>\n",
       "      <th>Site of primary STS</th>\n",
       "      <th>Status (NED, AWD, D)</th>\n",
       "      <th>Treatment</th>\n",
       "    </tr>\n",
       "  </thead>\n",
       "  <tbody>\n",
       "    <tr>\n",
       "      <th>3</th>\n",
       "      <td>STS_015</td>\n",
       "      <td>Female</td>\n",
       "      <td>54</td>\n",
       "      <td>Intermediate</td>\n",
       "      <td>synovial sarcoma</td>\n",
       "      <td>Leiomyosarcoma</td>\n",
       "      <td>right thigh</td>\n",
       "      <td>NED</td>\n",
       "      <td>Radiotherapy + Surgery</td>\n",
       "    </tr>\n",
       "    <tr>\n",
       "      <th>37</th>\n",
       "      <td>STS_015</td>\n",
       "      <td>Female</td>\n",
       "      <td>66</td>\n",
       "      <td>Intermediate</td>\n",
       "      <td>pleiomorphic leiomyosarcoma</td>\n",
       "      <td>Leiomyosarcoma</td>\n",
       "      <td>parascapusular</td>\n",
       "      <td>NED</td>\n",
       "      <td>Radiotherapy + Surgery</td>\n",
       "    </tr>\n",
       "    <tr>\n",
       "      <th>43</th>\n",
       "      <td>STS_015</td>\n",
       "      <td>Female</td>\n",
       "      <td>53</td>\n",
       "      <td>Intermediate</td>\n",
       "      <td>pleiomorphic leiomyosarcoma</td>\n",
       "      <td>Leiomyosarcoma</td>\n",
       "      <td>right thigh</td>\n",
       "      <td>NED</td>\n",
       "      <td>Radiotherapy + Surgery</td>\n",
       "    </tr>\n",
       "    <tr>\n",
       "      <th>68</th>\n",
       "      <td>STS_015</td>\n",
       "      <td>Female</td>\n",
       "      <td>57</td>\n",
       "      <td>Intermediate</td>\n",
       "      <td>myxofibrosarcoma</td>\n",
       "      <td>Leiomyosarcoma</td>\n",
       "      <td>left buttock</td>\n",
       "      <td>NED</td>\n",
       "      <td>Radiotherapy + Surgery</td>\n",
       "    </tr>\n",
       "    <tr>\n",
       "      <th>82</th>\n",
       "      <td>STS_015</td>\n",
       "      <td>Female</td>\n",
       "      <td>61</td>\n",
       "      <td>Intermediate</td>\n",
       "      <td>leiomyosarcoma</td>\n",
       "      <td>Leiomyosarcoma</td>\n",
       "      <td>right buttock</td>\n",
       "      <td>NED</td>\n",
       "      <td>Radiotherapy + Surgery</td>\n",
       "    </tr>\n",
       "    <tr>\n",
       "      <th>85</th>\n",
       "      <td>STS_015</td>\n",
       "      <td>Female</td>\n",
       "      <td>71</td>\n",
       "      <td>Intermediate</td>\n",
       "      <td>pleiomorphic leiomyosarcoma</td>\n",
       "      <td>Synovial sarcoma</td>\n",
       "      <td>left thigh</td>\n",
       "      <td>D</td>\n",
       "      <td>Surgery + Chemotherapy</td>\n",
       "    </tr>\n",
       "    <tr>\n",
       "      <th>95</th>\n",
       "      <td>STS_015</td>\n",
       "      <td>Male</td>\n",
       "      <td>68</td>\n",
       "      <td>High</td>\n",
       "      <td>pleiomorphic spindle cell undifferentiated</td>\n",
       "      <td>Leiomyosarcoma</td>\n",
       "      <td>left thigh</td>\n",
       "      <td>D</td>\n",
       "      <td>Radiotherapy + Surgery</td>\n",
       "    </tr>\n",
       "    <tr>\n",
       "      <th>121</th>\n",
       "      <td>STS_015</td>\n",
       "      <td>Female</td>\n",
       "      <td>58</td>\n",
       "      <td>Intermediate</td>\n",
       "      <td>pleiomorphic leiomyosarcoma</td>\n",
       "      <td>MFH</td>\n",
       "      <td>left biceps</td>\n",
       "      <td>NED</td>\n",
       "      <td>Radiotherapy + Surgery</td>\n",
       "    </tr>\n",
       "    <tr>\n",
       "      <th>125</th>\n",
       "      <td>STS_015</td>\n",
       "      <td>Female</td>\n",
       "      <td>80</td>\n",
       "      <td>Intermediate</td>\n",
       "      <td>pleiomorphic leiomyosarcoma</td>\n",
       "      <td>Leiomyosarcoma</td>\n",
       "      <td>right thigh</td>\n",
       "      <td>NED</td>\n",
       "      <td>Radiotherapy + Surgery</td>\n",
       "    </tr>\n",
       "    <tr>\n",
       "      <th>129</th>\n",
       "      <td>STS_015</td>\n",
       "      <td>Male</td>\n",
       "      <td>69</td>\n",
       "      <td>High</td>\n",
       "      <td>myxofibrosarcoma</td>\n",
       "      <td>Synovial sarcoma</td>\n",
       "      <td>right parascapusular</td>\n",
       "      <td>AWD</td>\n",
       "      <td>Surgery + Chemotherapy</td>\n",
       "    </tr>\n",
       "    <tr>\n",
       "      <th>191</th>\n",
       "      <td>STS_015</td>\n",
       "      <td>Female</td>\n",
       "      <td>40</td>\n",
       "      <td>Intermediate</td>\n",
       "      <td>sclerosing epithelioid fibrosarcoma</td>\n",
       "      <td>Synovial sarcoma</td>\n",
       "      <td>right thigh</td>\n",
       "      <td>NED</td>\n",
       "      <td>Radiotherapy + Surgery</td>\n",
       "    </tr>\n",
       "    <tr>\n",
       "      <th>249</th>\n",
       "      <td>STS_015</td>\n",
       "      <td>Female</td>\n",
       "      <td>52</td>\n",
       "      <td>Intermediate</td>\n",
       "      <td>pleiomorphic leiomyosarcoma</td>\n",
       "      <td>MFH</td>\n",
       "      <td>left buttock</td>\n",
       "      <td>NED</td>\n",
       "      <td>Radiotherapy + Surgery</td>\n",
       "    </tr>\n",
       "    <tr>\n",
       "      <th>284</th>\n",
       "      <td>STS_015</td>\n",
       "      <td>Female</td>\n",
       "      <td>71</td>\n",
       "      <td>Intermediate</td>\n",
       "      <td>leiomyosarcoma</td>\n",
       "      <td>Synovial sarcoma</td>\n",
       "      <td>right thigh</td>\n",
       "      <td>NED</td>\n",
       "      <td>Radiotherapy + Surgery</td>\n",
       "    </tr>\n",
       "    <tr>\n",
       "      <th>337</th>\n",
       "      <td>STS_015</td>\n",
       "      <td>Female</td>\n",
       "      <td>53</td>\n",
       "      <td>Intermediate</td>\n",
       "      <td>malignant solitary fibrous tumor</td>\n",
       "      <td>Leiomyosarcoma</td>\n",
       "      <td>right thigh</td>\n",
       "      <td>D</td>\n",
       "      <td>Radiotherapy + Surgery</td>\n",
       "    </tr>\n",
       "    <tr>\n",
       "      <th>346</th>\n",
       "      <td>STS_015</td>\n",
       "      <td>Female</td>\n",
       "      <td>47</td>\n",
       "      <td>Intermediate</td>\n",
       "      <td>epithelioid sarcoma</td>\n",
       "      <td>MFH</td>\n",
       "      <td>left biceps</td>\n",
       "      <td>NED</td>\n",
       "      <td>Radiotherapy + Surgery</td>\n",
       "    </tr>\n",
       "    <tr>\n",
       "      <th>369</th>\n",
       "      <td>STS_015</td>\n",
       "      <td>Female</td>\n",
       "      <td>37</td>\n",
       "      <td>Intermediate</td>\n",
       "      <td>synovial sarcoma</td>\n",
       "      <td>Synovial sarcoma</td>\n",
       "      <td>right buttock</td>\n",
       "      <td>NED</td>\n",
       "      <td>Surgery + Chemotherapy</td>\n",
       "    </tr>\n",
       "    <tr>\n",
       "      <th>422</th>\n",
       "      <td>STS_015</td>\n",
       "      <td>Male</td>\n",
       "      <td>72</td>\n",
       "      <td>High</td>\n",
       "      <td>poorly differentiated synovial sarcoma</td>\n",
       "      <td>Leiomyosarcoma</td>\n",
       "      <td>right parascapusular</td>\n",
       "      <td>AWD</td>\n",
       "      <td>Radiotherapy + Surgery + Chemotherapy</td>\n",
       "    </tr>\n",
       "    <tr>\n",
       "      <th>475</th>\n",
       "      <td>STS_015</td>\n",
       "      <td>Female</td>\n",
       "      <td>39</td>\n",
       "      <td>Intermediate</td>\n",
       "      <td>synovial sarcoma</td>\n",
       "      <td>MFH</td>\n",
       "      <td>right thigh</td>\n",
       "      <td>D</td>\n",
       "      <td>Radiotherapy + Surgery</td>\n",
       "    </tr>\n",
       "    <tr>\n",
       "      <th>487</th>\n",
       "      <td>STS_015</td>\n",
       "      <td>Female</td>\n",
       "      <td>31</td>\n",
       "      <td>Intermediate</td>\n",
       "      <td>malignant solitary fibrous tumor</td>\n",
       "      <td>Leiomyosarcoma</td>\n",
       "      <td>parascapusular</td>\n",
       "      <td>NED</td>\n",
       "      <td>Radiotherapy + Surgery</td>\n",
       "    </tr>\n",
       "  </tbody>\n",
       "</table>\n",
       "</div>"
      ],
      "text/plain": [
       "    Patient ID     Sex  Age         Grade  \\\n",
       "3      STS_015  Female   54  Intermediate   \n",
       "37     STS_015  Female   66  Intermediate   \n",
       "43     STS_015  Female   53  Intermediate   \n",
       "68     STS_015  Female   57  Intermediate   \n",
       "82     STS_015  Female   61  Intermediate   \n",
       "85     STS_015  Female   71  Intermediate   \n",
       "95     STS_015    Male   68          High   \n",
       "121    STS_015  Female   58  Intermediate   \n",
       "125    STS_015  Female   80  Intermediate   \n",
       "129    STS_015    Male   69          High   \n",
       "191    STS_015  Female   40  Intermediate   \n",
       "249    STS_015  Female   52  Intermediate   \n",
       "284    STS_015  Female   71  Intermediate   \n",
       "337    STS_015  Female   53  Intermediate   \n",
       "346    STS_015  Female   47  Intermediate   \n",
       "369    STS_015  Female   37  Intermediate   \n",
       "422    STS_015    Male   72          High   \n",
       "475    STS_015  Female   39  Intermediate   \n",
       "487    STS_015  Female   31  Intermediate   \n",
       "\n",
       "                              Histological type        MSKCC type  \\\n",
       "3                              synovial sarcoma    Leiomyosarcoma   \n",
       "37                  pleiomorphic leiomyosarcoma    Leiomyosarcoma   \n",
       "43                  pleiomorphic leiomyosarcoma    Leiomyosarcoma   \n",
       "68                             myxofibrosarcoma    Leiomyosarcoma   \n",
       "82                               leiomyosarcoma    Leiomyosarcoma   \n",
       "85                  pleiomorphic leiomyosarcoma  Synovial sarcoma   \n",
       "95   pleiomorphic spindle cell undifferentiated    Leiomyosarcoma   \n",
       "121                 pleiomorphic leiomyosarcoma               MFH   \n",
       "125                 pleiomorphic leiomyosarcoma    Leiomyosarcoma   \n",
       "129                            myxofibrosarcoma  Synovial sarcoma   \n",
       "191         sclerosing epithelioid fibrosarcoma  Synovial sarcoma   \n",
       "249                 pleiomorphic leiomyosarcoma               MFH   \n",
       "284                              leiomyosarcoma  Synovial sarcoma   \n",
       "337            malignant solitary fibrous tumor    Leiomyosarcoma   \n",
       "346                         epithelioid sarcoma               MFH   \n",
       "369                            synovial sarcoma  Synovial sarcoma   \n",
       "422      poorly differentiated synovial sarcoma    Leiomyosarcoma   \n",
       "475                            synovial sarcoma               MFH   \n",
       "487            malignant solitary fibrous tumor    Leiomyosarcoma   \n",
       "\n",
       "      Site of primary STS Status (NED, AWD, D)  \\\n",
       "3             right thigh                  NED   \n",
       "37         parascapusular                  NED   \n",
       "43            right thigh                  NED   \n",
       "68           left buttock                  NED   \n",
       "82          right buttock                  NED   \n",
       "85             left thigh                    D   \n",
       "95             left thigh                    D   \n",
       "121           left biceps                  NED   \n",
       "125           right thigh                  NED   \n",
       "129  right parascapusular                  AWD   \n",
       "191           right thigh                  NED   \n",
       "249          left buttock                  NED   \n",
       "284           right thigh                  NED   \n",
       "337           right thigh                    D   \n",
       "346           left biceps                  NED   \n",
       "369         right buttock                  NED   \n",
       "422  right parascapusular                  AWD   \n",
       "475           right thigh                    D   \n",
       "487        parascapusular                  NED   \n",
       "\n",
       "                                 Treatment  \n",
       "3                   Radiotherapy + Surgery  \n",
       "37                  Radiotherapy + Surgery  \n",
       "43                  Radiotherapy + Surgery  \n",
       "68                  Radiotherapy + Surgery  \n",
       "82                  Radiotherapy + Surgery  \n",
       "85                  Surgery + Chemotherapy  \n",
       "95                  Radiotherapy + Surgery  \n",
       "121                 Radiotherapy + Surgery  \n",
       "125                 Radiotherapy + Surgery  \n",
       "129                 Surgery + Chemotherapy  \n",
       "191                 Radiotherapy + Surgery  \n",
       "249                 Radiotherapy + Surgery  \n",
       "284                 Radiotherapy + Surgery  \n",
       "337                 Radiotherapy + Surgery  \n",
       "346                 Radiotherapy + Surgery  \n",
       "369                 Surgery + Chemotherapy  \n",
       "422  Radiotherapy + Surgery + Chemotherapy  \n",
       "475                 Radiotherapy + Surgery  \n",
       "487                 Radiotherapy + Surgery  "
      ]
     },
     "execution_count": 105,
     "metadata": {},
     "output_type": "execute_result"
    }
   ],
   "source": [
    "df[df['Patient ID'] == 'STS_015']"
   ]
  },
  {
   "cell_type": "code",
   "execution_count": 106,
   "id": "d47d54fa",
   "metadata": {},
   "outputs": [
    {
     "name": "stdout",
     "output_type": "stream",
     "text": [
      "Pleiomorphic leiomyosarcoma\n",
      "Intermediate: 60 times\n",
      "High: 44 times\n"
     ]
    }
   ],
   "source": [
    "df_pl = df[df['Histological type'] == 'pleiomorphic leiomyosarcoma']\n",
    "\n",
    "unique_values_counts = df_pl['Grade'].value_counts()\n",
    "print(\"Pleiomorphic leiomyosarcoma\")\n",
    "for value, count in unique_values_counts.items():\n",
    "    print(f\"{value}: {count} times\")"
   ]
  },
  {
   "cell_type": "code",
   "execution_count": 107,
   "id": "c833b327",
   "metadata": {},
   "outputs": [
    {
     "data": {
      "image/png": "[encoded data removed]",
      "text/plain": [
       "<Figure size 432x288 with 1 Axes>"
      ]
     },
     "metadata": {},
     "output_type": "display_data"
    }
   ],
   "source": [
    "df_pl = df[df['Histological type'] == 'pleiomorphic leiomyosarcoma']\n",
    "\n",
    "sns.set_style('whitegrid')\n",
    "sns.set(font=\"sans-serif\")\n",
    "\n",
    "plt.figure(figsize=(6, 4))\n",
    "sns.kdeplot(data=df_pl[df_pl['Sex'] == 'Male']['Age'], label='Male', color='#16558F', fill=True)\n",
    "sns.kdeplot(data=df_pl[df_pl['Sex'] == 'Female']['Age'], label='Female', color='#61B0B7', fill=True)\n",
    "\n",
    "plt.xlabel('Age', fontsize=12)\n",
    "plt.ylabel('Density', fontsize=12)\n",
    "plt.title('Age Distribution of Pleiomorphic Leiomyosarcoma by Gender', fontsize=12)\n",
    "\n",
    "plt.legend()\n",
    "\n",
    "ax = plt.gca()\n",
    "ax.set_facecolor('white')\n",
    "ax.set_frame_on(True)\n",
    "\n",
    "plt.show()"
   ]
  },
  {
   "cell_type": "code",
   "execution_count": 108,
   "id": "383d5417",
   "metadata": {},
   "outputs": [
    {
     "data": {
      "application/vnd.plotly.v1+json": {
       "config": {
        "linkText": "Export to plot.ly",
        "plotlyServerURL": "https://plot.ly",
        "showLink": false
       },
       "data": [
        {
         "domain": {
          "column": 0
         },
         "hole": 0.5,
         "hoverinfo": "label+percent+name",
         "labels": [
          "MFH",
          "Synovial sarcoma",
          "Leiomyosarcoma"
         ],
         "marker": {
          "colors": [
           "#16558F",
           "#0583D2",
           "#61B0B7"
          ]
         },
         "name": "Male MSKCC Type",
         "type": "pie",
         "values": [
          146,
          33,
          21
         ]
        },
        {
         "domain": {
          "column": 1
         },
         "hole": 0.5,
         "hoverinfo": "label+percent+name",
         "labels": [
          "MFH",
          "Synovial sarcoma",
          "Leiomyosarcoma"
         ],
         "marker": {
          "colors": [
           "#16558F",
           "#0583D2",
           "#61B0B7"
          ]
         },
         "name": "Female MSKCC Type",
         "type": "pie",
         "values": [
          79,
          98,
          123
         ]
        }
       ],
       "layout": {
        "annotations": [
         {
          "font": {
           "size": 20
          },
          "showarrow": false,
          "text": "Male",
          "x": 0.21,
          "y": 0.5
         },
         {
          "font": {
           "size": 20
          },
          "showarrow": false,
          "text": "Female",
          "x": 0.805,
          "y": 0.5
         }
        ],
        "grid": {
         "columns": 2,
         "rows": 1
        },
        "template": {
         "data": {
          "bar": [
           {
            "error_x": {
             "color": "#2a3f5f"
            },
            "error_y": {
             "color": "#2a3f5f"
            },
            "marker": {
             "line": {
              "color": "#E5ECF6",
              "width": 0.5
             },
             "pattern": {
              "fillmode": "overlay",
              "size": 10,
              "solidity": 0.2
             }
            },
            "type": "bar"
           }
          ],
          "barpolar": [
           {
            "marker": {
             "line": {
              "color": "#E5ECF6",
              "width": 0.5
             },
             "pattern": {
              "fillmode": "overlay",
              "size": 10,
              "solidity": 0.2
             }
            },
            "type": "barpolar"
           }
          ],
          "carpet": [
           {
            "aaxis": {
             "endlinecolor": "#2a3f5f",
             "gridcolor": "white",
             "linecolor": "white",
             "minorgridcolor": "white",
             "startlinecolor": "#2a3f5f"
            },
            "baxis": {
             "endlinecolor": "#2a3f5f",
             "gridcolor": "white",
             "linecolor": "white",
             "minorgridcolor": "white",
             "startlinecolor": "#2a3f5f"
            },
            "type": "carpet"
           }
          ],
          "choropleth": [
           {
            "colorbar": {
             "outlinewidth": 0,
             "ticks": ""
            },
            "type": "choropleth"
           }
          ],
          "contour": [
           {
            "colorbar": {
             "outlinewidth": 0,
             "ticks": ""
            },
            "colorscale": [
             [
              0,
              "#0d0887"
             ],
             [
              0.1111111111111111,
              "#46039f"
             ],
             [
              0.2222222222222222,
              "#7201a8"
             ],
             [
              0.3333333333333333,
              "#9c179e"
             ],
             [
              0.4444444444444444,
              "#bd3786"
             ],
             [
              0.5555555555555556,
              "#d8576b"
             ],
             [
              0.6666666666666666,
              "#ed7953"
             ],
             [
              0.7777777777777778,
              "#fb9f3a"
             ],
             [
              0.8888888888888888,
              "#fdca26"
             ],
             [
              1,
              "#f0f921"
             ]
            ],
            "type": "contour"
           }
          ],
          "contourcarpet": [
           {
            "colorbar": {
             "outlinewidth": 0,
             "ticks": ""
            },
            "type": "contourcarpet"
           }
          ],
          "heatmap": [
           {
            "colorbar": {
             "outlinewidth": 0,
             "ticks": ""
            },
            "colorscale": [
             [
              0,
              "#0d0887"
             ],
             [
              0.1111111111111111,
              "#46039f"
             ],
             [
              0.2222222222222222,
              "#7201a8"
             ],
             [
              0.3333333333333333,
              "#9c179e"
             ],
             [
              0.4444444444444444,
              "#bd3786"
             ],
             [
              0.5555555555555556,
              "#d8576b"
             ],
             [
              0.6666666666666666,
              "#ed7953"
             ],
             [
              0.7777777777777778,
              "#fb9f3a"
             ],
             [
              0.8888888888888888,
              "#fdca26"
             ],
             [
              1,
              "#f0f921"
             ]
            ],
            "type": "heatmap"
           }
          ],
          "heatmapgl": [
           {
            "colorbar": {
             "outlinewidth": 0,
             "ticks": ""
            },
            "colorscale": [
             [
              0,
              "#0d0887"
             ],
             [
              0.1111111111111111,
              "#46039f"
             ],
             [
              0.2222222222222222,
              "#7201a8"
             ],
             [
              0.3333333333333333,
              "#9c179e"
             ],
             [
              0.4444444444444444,
              "#bd3786"
             ],
             [
              0.5555555555555556,
              "#d8576b"
             ],
             [
              0.6666666666666666,
              "#ed7953"
             ],
             [
              0.7777777777777778,
              "#fb9f3a"
             ],
             [
              0.8888888888888888,
              "#fdca26"
             ],
             [
              1,
              "#f0f921"
             ]
            ],
            "type": "heatmapgl"
           }
          ],
          "histogram": [
           {
            "marker": {
             "pattern": {
              "fillmode": "overlay",
              "size": 10,
              "solidity": 0.2
             }
            },
            "type": "histogram"
           }
          ],
          "histogram2d": [
           {
            "colorbar": {
             "outlinewidth": 0,
             "ticks": ""
            },
            "colorscale": [
             [
              0,
              "#0d0887"
             ],
             [
              0.1111111111111111,
              "#46039f"
             ],
             [
              0.2222222222222222,
              "#7201a8"
             ],
             [
              0.3333333333333333,
              "#9c179e"
             ],
             [
              0.4444444444444444,
              "#bd3786"
             ],
             [
              0.5555555555555556,
              "#d8576b"
             ],
             [
              0.6666666666666666,
              "#ed7953"
             ],
             [
              0.7777777777777778,
              "#fb9f3a"
             ],
             [
              0.8888888888888888,
              "#fdca26"
             ],
             [
              1,
              "#f0f921"
             ]
            ],
            "type": "histogram2d"
           }
          ],
          "histogram2dcontour": [
           {
            "colorbar": {
             "outlinewidth": 0,
             "ticks": ""
            },
            "colorscale": [
             [
              0,
              "#0d0887"
             ],
             [
              0.1111111111111111,
              "#46039f"
             ],
             [
              0.2222222222222222,
              "#7201a8"
             ],
             [
              0.3333333333333333,
              "#9c179e"
             ],
             [
              0.4444444444444444,
              "#bd3786"
             ],
             [
              0.5555555555555556,
              "#d8576b"
             ],
             [
              0.6666666666666666,
              "#ed7953"
             ],
             [
              0.7777777777777778,
              "#fb9f3a"
             ],
             [
              0.8888888888888888,
              "#fdca26"
             ],
             [
              1,
              "#f0f921"
             ]
            ],
            "type": "histogram2dcontour"
           }
          ],
          "mesh3d": [
           {
            "colorbar": {
             "outlinewidth": 0,
             "ticks": ""
            },
            "type": "mesh3d"
           }
          ],
          "parcoords": [
           {
            "line": {
             "colorbar": {
              "outlinewidth": 0,
              "ticks": ""
             }
            },
            "type": "parcoords"
           }
          ],
          "pie": [
           {
            "automargin": true,
            "type": "pie"
           }
          ],
          "scatter": [
           {
            "marker": {
             "colorbar": {
              "outlinewidth": 0,
              "ticks": ""
             }
            },
            "type": "scatter"
           }
          ],
          "scatter3d": [
           {
            "line": {
             "colorbar": {
              "outlinewidth": 0,
              "ticks": ""
             }
            },
            "marker": {
             "colorbar": {
              "outlinewidth": 0,
              "ticks": ""
             }
            },
            "type": "scatter3d"
           }
          ],
          "scattercarpet": [
           {
            "marker": {
             "colorbar": {
              "outlinewidth": 0,
              "ticks": ""
             }
            },
            "type": "scattercarpet"
           }
          ],
          "scattergeo": [
           {
            "marker": {
             "colorbar": {
              "outlinewidth": 0,
              "ticks": ""
             }
            },
            "type": "scattergeo"
           }
          ],
          "scattergl": [
           {
            "marker": {
             "colorbar": {
              "outlinewidth": 0,
              "ticks": ""
             }
            },
            "type": "scattergl"
           }
          ],
          "scattermapbox": [
           {
            "marker": {
             "colorbar": {
              "outlinewidth": 0,
              "ticks": ""
             }
            },
            "type": "scattermapbox"
           }
          ],
          "scatterpolar": [
           {
            "marker": {
             "colorbar": {
              "outlinewidth": 0,
              "ticks": ""
             }
            },
            "type": "scatterpolar"
           }
          ],
          "scatterpolargl": [
           {
            "marker": {
             "colorbar": {
              "outlinewidth": 0,
              "ticks": ""
             }
            },
            "type": "scatterpolargl"
           }
          ],
          "scatterternary": [
           {
            "marker": {
             "colorbar": {
              "outlinewidth": 0,
              "ticks": ""
             }
            },
            "type": "scatterternary"
           }
          ],
          "surface": [
           {
            "colorbar": {
             "outlinewidth": 0,
             "ticks": ""
            },
            "colorscale": [
             [
              0,
              "#0d0887"
             ],
             [
              0.1111111111111111,
              "#46039f"
             ],
             [
              0.2222222222222222,
              "#7201a8"
             ],
             [
              0.3333333333333333,
              "#9c179e"
             ],
             [
              0.4444444444444444,
              "#bd3786"
             ],
             [
              0.5555555555555556,
              "#d8576b"
             ],
             [
              0.6666666666666666,
              "#ed7953"
             ],
             [
              0.7777777777777778,
              "#fb9f3a"
             ],
             [
              0.8888888888888888,
              "#fdca26"
             ],
             [
              1,
              "#f0f921"
             ]
            ],
            "type": "surface"
           }
          ],
          "table": [
           {
            "cells": {
             "fill": {
              "color": "#EBF0F8"
             },
             "line": {
              "color": "white"
             }
            },
            "header": {
             "fill": {
              "color": "#C8D4E3"
             },
             "line": {
              "color": "white"
             }
            },
            "type": "table"
           }
          ]
         },
         "layout": {
          "annotationdefaults": {
           "arrowcolor": "#2a3f5f",
           "arrowhead": 0,
           "arrowwidth": 1
          },
          "autotypenumbers": "strict",
          "coloraxis": {
           "colorbar": {
            "outlinewidth": 0,
            "ticks": ""
           }
          },
          "colorscale": {
           "diverging": [
            [
             0,
             "#8e0152"
            ],
            [
             0.1,
             "#c51b7d"
            ],
            [
             0.2,
             "#de77ae"
            ],
            [
             0.3,
             "#f1b6da"
            ],
            [
             0.4,
             "#fde0ef"
            ],
            [
             0.5,
             "#f7f7f7"
            ],
            [
             0.6,
             "#e6f5d0"
            ],
            [
             0.7,
             "#b8e186"
            ],
            [
             0.8,
             "#7fbc41"
            ],
            [
             0.9,
             "#4d9221"
            ],
            [
             1,
             "#276419"
            ]
           ],
           "sequential": [
            [
             0,
             "#0d0887"
            ],
            [
             0.1111111111111111,
             "#46039f"
            ],
            [
             0.2222222222222222,
             "#7201a8"
            ],
            [
             0.3333333333333333,
             "#9c179e"
            ],
            [
             0.4444444444444444,
             "#bd3786"
            ],
            [
             0.5555555555555556,
             "#d8576b"
            ],
            [
             0.6666666666666666,
             "#ed7953"
            ],
            [
             0.7777777777777778,
             "#fb9f3a"
            ],
            [
             0.8888888888888888,
             "#fdca26"
            ],
            [
             1,
             "#f0f921"
            ]
           ],
           "sequentialminus": [
            [
             0,
             "#0d0887"
            ],
            [
             0.1111111111111111,
             "#46039f"
            ],
            [
             0.2222222222222222,
             "#7201a8"
            ],
            [
             0.3333333333333333,
             "#9c179e"
            ],
            [
             0.4444444444444444,
             "#bd3786"
            ],
            [
             0.5555555555555556,
             "#d8576b"
            ],
            [
             0.6666666666666666,
             "#ed7953"
            ],
            [
             0.7777777777777778,
             "#fb9f3a"
            ],
            [
             0.8888888888888888,
             "#fdca26"
            ],
            [
             1,
             "#f0f921"
            ]
           ]
          },
          "colorway": [
           "#636efa",
           "#EF553B",
           "#00cc96",
           "#ab63fa",
           "#FFA15A",
           "#19d3f3",
           "#FF6692",
           "#B6E880",
           "#FF97FF",
           "#FECB52"
          ],
          "font": {
           "color": "#2a3f5f"
          },
          "geo": {
           "bgcolor": "white",
           "lakecolor": "white",
           "landcolor": "#E5ECF6",
           "showlakes": true,
           "showland": true,
           "subunitcolor": "white"
          },
          "hoverlabel": {
           "align": "left"
          },
          "hovermode": "closest",
          "mapbox": {
           "style": "light"
          },
          "paper_bgcolor": "white",
          "plot_bgcolor": "#E5ECF6",
          "polar": {
           "angularaxis": {
            "gridcolor": "white",
            "linecolor": "white",
            "ticks": ""
           },
           "bgcolor": "#E5ECF6",
           "radialaxis": {
            "gridcolor": "white",
            "linecolor": "white",
            "ticks": ""
           }
          },
          "scene": {
           "xaxis": {
            "backgroundcolor": "#E5ECF6",
            "gridcolor": "white",
            "gridwidth": 2,
            "linecolor": "white",
            "showbackground": true,
            "ticks": "",
            "zerolinecolor": "white"
           },
           "yaxis": {
            "backgroundcolor": "#E5ECF6",
            "gridcolor": "white",
            "gridwidth": 2,
            "linecolor": "white",
            "showbackground": true,
            "ticks": "",
            "zerolinecolor": "white"
           },
           "zaxis": {
            "backgroundcolor": "#E5ECF6",
            "gridcolor": "white",
            "gridwidth": 2,
            "linecolor": "white",
            "showbackground": true,
            "ticks": "",
            "zerolinecolor": "white"
           }
          },
          "shapedefaults": {
           "line": {
            "color": "#2a3f5f"
           }
          },
          "ternary": {
           "aaxis": {
            "gridcolor": "white",
            "linecolor": "white",
            "ticks": ""
           },
           "baxis": {
            "gridcolor": "white",
            "linecolor": "white",
            "ticks": ""
           },
           "bgcolor": "#E5ECF6",
           "caxis": {
            "gridcolor": "white",
            "linecolor": "white",
            "ticks": ""
           }
          },
          "title": {
           "x": 0.05
          },
          "xaxis": {
           "automargin": true,
           "gridcolor": "white",
           "linecolor": "white",
           "ticks": "",
           "title": {
            "standoff": 15
           },
           "zerolinecolor": "white",
           "zerolinewidth": 2
          },
          "yaxis": {
           "automargin": true,
           "gridcolor": "white",
           "linecolor": "white",
           "ticks": "",
           "title": {
            "standoff": 15
           },
           "zerolinecolor": "white",
           "zerolinewidth": 2
          }
         }
        },
        "title": {
         "font": {
          "size": 20
         },
         "text": "MSKCC Types by Gender (Male vs. Female)",
         "x": 0.5
        }
       }
      },
      "text/html": [
       "<div>                            <div id=\"672002b3-6862-4f31-8593-3b62935c231e\" class=\"plotly-graph-div\" style=\"height:525px; width:100%;\"></div>            <script type=\"text/javascript\">                require([\"plotly\"], function(Plotly) {                    window.PLOTLYENV=window.PLOTLYENV || {};                                    if (document.getElementById(\"672002b3-6862-4f31-8593-3b62935c231e\")) {                    Plotly.newPlot(                        \"672002b3-6862-4f31-8593-3b62935c231e\",                        [{\"domain\":{\"column\":0},\"hole\":0.5,\"hoverinfo\":\"label+percent+name\",\"labels\":[\"MFH\",\"Synovial sarcoma\",\"Leiomyosarcoma\"],\"marker\":{\"colors\":[\"#16558F\",\"#0583D2\",\"#61B0B7\"]},\"name\":\"Male MSKCC Type\",\"values\":[146,33,21],\"type\":\"pie\"},{\"domain\":{\"column\":1},\"hole\":0.5,\"hoverinfo\":\"label+percent+name\",\"labels\":[\"MFH\",\"Synovial sarcoma\",\"Leiomyosarcoma\"],\"marker\":{\"colors\":[\"#16558F\",\"#0583D2\",\"#61B0B7\"]},\"name\":\"Female MSKCC Type\",\"values\":[79,98,123],\"type\":\"pie\"}],                        {\"annotations\":[{\"font\":{\"size\":20},\"showarrow\":false,\"text\":\"Male\",\"x\":0.21,\"y\":0.5},{\"font\":{\"size\":20},\"showarrow\":false,\"text\":\"Female\",\"x\":0.805,\"y\":0.5}],\"grid\":{\"columns\":2,\"rows\":1},\"template\":{\"data\":{\"barpolar\":[{\"marker\":{\"line\":{\"color\":\"#E5ECF6\",\"width\":0.5},\"pattern\":{\"fillmode\":\"overlay\",\"size\":10,\"solidity\":0.2}},\"type\":\"barpolar\"}],\"bar\":[{\"error_x\":{\"color\":\"#2a3f5f\"},\"error_y\":{\"color\":\"#2a3f5f\"},\"marker\":{\"line\":{\"color\":\"#E5ECF6\",\"width\":0.5},\"pattern\":{\"fillmode\":\"overlay\",\"size\":10,\"solidity\":0.2}},\"type\":\"bar\"}],\"carpet\":[{\"aaxis\":{\"endlinecolor\":\"#2a3f5f\",\"gridcolor\":\"white\",\"linecolor\":\"white\",\"minorgridcolor\":\"white\",\"startlinecolor\":\"#2a3f5f\"},\"baxis\":{\"endlinecolor\":\"#2a3f5f\",\"gridcolor\":\"white\",\"linecolor\":\"white\",\"minorgridcolor\":\"white\",\"startlinecolor\":\"#2a3f5f\"},\"type\":\"carpet\"}],\"choropleth\":[{\"colorbar\":{\"outlinewidth\":0,\"ticks\":\"\"},\"type\":\"choropleth\"}],\"contourcarpet\":[{\"colorbar\":{\"outlinewidth\":0,\"ticks\":\"\"},\"type\":\"contourcarpet\"}],\"contour\":[{\"colorbar\":{\"outlinewidth\":0,\"ticks\":\"\"},\"colorscale\":[[0.0,\"#0d0887\"],[0.1111111111111111,\"#46039f\"],[0.2222222222222222,\"#7201a8\"],[0.3333333333333333,\"#9c179e\"],[0.4444444444444444,\"#bd3786\"],[0.5555555555555556,\"#d8576b\"],[0.6666666666666666,\"#ed7953\"],[0.7777777777777778,\"#fb9f3a\"],[0.8888888888888888,\"#fdca26\"],[1.0,\"#f0f921\"]],\"type\":\"contour\"}],\"heatmapgl\":[{\"colorbar\":{\"outlinewidth\":0,\"ticks\":\"\"},\"colorscale\":[[0.0,\"#0d0887\"],[0.1111111111111111,\"#46039f\"],[0.2222222222222222,\"#7201a8\"],[0.3333333333333333,\"#9c179e\"],[0.4444444444444444,\"#bd3786\"],[0.5555555555555556,\"#d8576b\"],[0.6666666666666666,\"#ed7953\"],[0.7777777777777778,\"#fb9f3a\"],[0.8888888888888888,\"#fdca26\"],[1.0,\"#f0f921\"]],\"type\":\"heatmapgl\"}],\"heatmap\":[{\"colorbar\":{\"outlinewidth\":0,\"ticks\":\"\"},\"colorscale\":[[0.0,\"#0d0887\"],[0.1111111111111111,\"#46039f\"],[0.2222222222222222,\"#7201a8\"],[0.3333333333333333,\"#9c179e\"],[0.4444444444444444,\"#bd3786\"],[0.5555555555555556,\"#d8576b\"],[0.6666666666666666,\"#ed7953\"],[0.7777777777777778,\"#fb9f3a\"],[0.8888888888888888,\"#fdca26\"],[1.0,\"#f0f921\"]],\"type\":\"heatmap\"}],\"histogram2dcontour\":[{\"colorbar\":{\"outlinewidth\":0,\"ticks\":\"\"},\"colorscale\":[[0.0,\"#0d0887\"],[0.1111111111111111,\"#46039f\"],[0.2222222222222222,\"#7201a8\"],[0.3333333333333333,\"#9c179e\"],[0.4444444444444444,\"#bd3786\"],[0.5555555555555556,\"#d8576b\"],[0.6666666666666666,\"#ed7953\"],[0.7777777777777778,\"#fb9f3a\"],[0.8888888888888888,\"#fdca26\"],[1.0,\"#f0f921\"]],\"type\":\"histogram2dcontour\"}],\"histogram2d\":[{\"colorbar\":{\"outlinewidth\":0,\"ticks\":\"\"},\"colorscale\":[[0.0,\"#0d0887\"],[0.1111111111111111,\"#46039f\"],[0.2222222222222222,\"#7201a8\"],[0.3333333333333333,\"#9c179e\"],[0.4444444444444444,\"#bd3786\"],[0.5555555555555556,\"#d8576b\"],[0.6666666666666666,\"#ed7953\"],[0.7777777777777778,\"#fb9f3a\"],[0.8888888888888888,\"#fdca26\"],[1.0,\"#f0f921\"]],\"type\":\"histogram2d\"}],\"histogram\":[{\"marker\":{\"pattern\":{\"fillmode\":\"overlay\",\"size\":10,\"solidity\":0.2}},\"type\":\"histogram\"}],\"mesh3d\":[{\"colorbar\":{\"outlinewidth\":0,\"ticks\":\"\"},\"type\":\"mesh3d\"}],\"parcoords\":[{\"line\":{\"colorbar\":{\"outlinewidth\":0,\"ticks\":\"\"}},\"type\":\"parcoords\"}],\"pie\":[{\"automargin\":true,\"type\":\"pie\"}],\"scatter3d\":[{\"line\":{\"colorbar\":{\"outlinewidth\":0,\"ticks\":\"\"}},\"marker\":{\"colorbar\":{\"outlinewidth\":0,\"ticks\":\"\"}},\"type\":\"scatter3d\"}],\"scattercarpet\":[{\"marker\":{\"colorbar\":{\"outlinewidth\":0,\"ticks\":\"\"}},\"type\":\"scattercarpet\"}],\"scattergeo\":[{\"marker\":{\"colorbar\":{\"outlinewidth\":0,\"ticks\":\"\"}},\"type\":\"scattergeo\"}],\"scattergl\":[{\"marker\":{\"colorbar\":{\"outlinewidth\":0,\"ticks\":\"\"}},\"type\":\"scattergl\"}],\"scattermapbox\":[{\"marker\":{\"colorbar\":{\"outlinewidth\":0,\"ticks\":\"\"}},\"type\":\"scattermapbox\"}],\"scatterpolargl\":[{\"marker\":{\"colorbar\":{\"outlinewidth\":0,\"ticks\":\"\"}},\"type\":\"scatterpolargl\"}],\"scatterpolar\":[{\"marker\":{\"colorbar\":{\"outlinewidth\":0,\"ticks\":\"\"}},\"type\":\"scatterpolar\"}],\"scatter\":[{\"marker\":{\"colorbar\":{\"outlinewidth\":0,\"ticks\":\"\"}},\"type\":\"scatter\"}],\"scatterternary\":[{\"marker\":{\"colorbar\":{\"outlinewidth\":0,\"ticks\":\"\"}},\"type\":\"scatterternary\"}],\"surface\":[{\"colorbar\":{\"outlinewidth\":0,\"ticks\":\"\"},\"colorscale\":[[0.0,\"#0d0887\"],[0.1111111111111111,\"#46039f\"],[0.2222222222222222,\"#7201a8\"],[0.3333333333333333,\"#9c179e\"],[0.4444444444444444,\"#bd3786\"],[0.5555555555555556,\"#d8576b\"],[0.6666666666666666,\"#ed7953\"],[0.7777777777777778,\"#fb9f3a\"],[0.8888888888888888,\"#fdca26\"],[1.0,\"#f0f921\"]],\"type\":\"surface\"}],\"table\":[{\"cells\":{\"fill\":{\"color\":\"#EBF0F8\"},\"line\":{\"color\":\"white\"}},\"header\":{\"fill\":{\"color\":\"#C8D4E3\"},\"line\":{\"color\":\"white\"}},\"type\":\"table\"}]},\"layout\":{\"annotationdefaults\":{\"arrowcolor\":\"#2a3f5f\",\"arrowhead\":0,\"arrowwidth\":1},\"autotypenumbers\":\"strict\",\"coloraxis\":{\"colorbar\":{\"outlinewidth\":0,\"ticks\":\"\"}},\"colorscale\":{\"diverging\":[[0,\"#8e0152\"],[0.1,\"#c51b7d\"],[0.2,\"#de77ae\"],[0.3,\"#f1b6da\"],[0.4,\"#fde0ef\"],[0.5,\"#f7f7f7\"],[0.6,\"#e6f5d0\"],[0.7,\"#b8e186\"],[0.8,\"#7fbc41\"],[0.9,\"#4d9221\"],[1,\"#276419\"]],\"sequential\":[[0.0,\"#0d0887\"],[0.1111111111111111,\"#46039f\"],[0.2222222222222222,\"#7201a8\"],[0.3333333333333333,\"#9c179e\"],[0.4444444444444444,\"#bd3786\"],[0.5555555555555556,\"#d8576b\"],[0.6666666666666666,\"#ed7953\"],[0.7777777777777778,\"#fb9f3a\"],[0.8888888888888888,\"#fdca26\"],[1.0,\"#f0f921\"]],\"sequentialminus\":[[0.0,\"#0d0887\"],[0.1111111111111111,\"#46039f\"],[0.2222222222222222,\"#7201a8\"],[0.3333333333333333,\"#9c179e\"],[0.4444444444444444,\"#bd3786\"],[0.5555555555555556,\"#d8576b\"],[0.6666666666666666,\"#ed7953\"],[0.7777777777777778,\"#fb9f3a\"],[0.8888888888888888,\"#fdca26\"],[1.0,\"#f0f921\"]]},\"colorway\":[\"#636efa\",\"#EF553B\",\"#00cc96\",\"#ab63fa\",\"#FFA15A\",\"#19d3f3\",\"#FF6692\",\"#B6E880\",\"#FF97FF\",\"#FECB52\"],\"font\":{\"color\":\"#2a3f5f\"},\"geo\":{\"bgcolor\":\"white\",\"lakecolor\":\"white\",\"landcolor\":\"#E5ECF6\",\"showlakes\":true,\"showland\":true,\"subunitcolor\":\"white\"},\"hoverlabel\":{\"align\":\"left\"},\"hovermode\":\"closest\",\"mapbox\":{\"style\":\"light\"},\"paper_bgcolor\":\"white\",\"plot_bgcolor\":\"#E5ECF6\",\"polar\":{\"angularaxis\":{\"gridcolor\":\"white\",\"linecolor\":\"white\",\"ticks\":\"\"},\"bgcolor\":\"#E5ECF6\",\"radialaxis\":{\"gridcolor\":\"white\",\"linecolor\":\"white\",\"ticks\":\"\"}},\"scene\":{\"xaxis\":{\"backgroundcolor\":\"#E5ECF6\",\"gridcolor\":\"white\",\"gridwidth\":2,\"linecolor\":\"white\",\"showbackground\":true,\"ticks\":\"\",\"zerolinecolor\":\"white\"},\"yaxis\":{\"backgroundcolor\":\"#E5ECF6\",\"gridcolor\":\"white\",\"gridwidth\":2,\"linecolor\":\"white\",\"showbackground\":true,\"ticks\":\"\",\"zerolinecolor\":\"white\"},\"zaxis\":{\"backgroundcolor\":\"#E5ECF6\",\"gridcolor\":\"white\",\"gridwidth\":2,\"linecolor\":\"white\",\"showbackground\":true,\"ticks\":\"\",\"zerolinecolor\":\"white\"}},\"shapedefaults\":{\"line\":{\"color\":\"#2a3f5f\"}},\"ternary\":{\"aaxis\":{\"gridcolor\":\"white\",\"linecolor\":\"white\",\"ticks\":\"\"},\"baxis\":{\"gridcolor\":\"white\",\"linecolor\":\"white\",\"ticks\":\"\"},\"bgcolor\":\"#E5ECF6\",\"caxis\":{\"gridcolor\":\"white\",\"linecolor\":\"white\",\"ticks\":\"\"}},\"title\":{\"x\":0.05},\"xaxis\":{\"automargin\":true,\"gridcolor\":\"white\",\"linecolor\":\"white\",\"ticks\":\"\",\"title\":{\"standoff\":15},\"zerolinecolor\":\"white\",\"zerolinewidth\":2},\"yaxis\":{\"automargin\":true,\"gridcolor\":\"white\",\"linecolor\":\"white\",\"ticks\":\"\",\"title\":{\"standoff\":15},\"zerolinecolor\":\"white\",\"zerolinewidth\":2}}},\"title\":{\"font\":{\"size\":20},\"text\":\"MSKCC Types by Gender (Male vs. Female)\",\"x\":0.5}},                        {\"responsive\": true}                    ).then(function(){\n",
       "                            \n",
       "var gd = document.getElementById('672002b3-6862-4f31-8593-3b62935c231e');\n",
       "var x = new MutationObserver(function (mutations, observer) {{\n",
       "        var display = window.getComputedStyle(gd).display;\n",
       "        if (!display || display === 'none') {{\n",
       "            console.log([gd, 'removed!']);\n",
       "            Plotly.purge(gd);\n",
       "            observer.disconnect();\n",
       "        }}\n",
       "}});\n",
       "\n",
       "// Listen for the removal of the full notebook cells\n",
       "var notebookContainer = gd.closest('#notebook-container');\n",
       "if (notebookContainer) {{\n",
       "    x.observe(notebookContainer, {childList: true});\n",
       "}}\n",
       "\n",
       "// Listen for the clearing of the current output cell\n",
       "var outputEl = gd.closest('.output');\n",
       "if (outputEl) {{\n",
       "    x.observe(outputEl, {childList: true});\n",
       "}}\n",
       "\n",
       "                        })                };                });            </script>        </div>"
      ]
     },
     "metadata": {},
     "output_type": "display_data"
    }
   ],
   "source": [
    "#MSKCC Types by Gender\n",
    "import plotly.graph_objs as go\n",
    "import plotly.offline as pyo\n",
    "\n",
    "\n",
    "male_data = df[df['Sex'] == 'Male']\n",
    "female_data = df[df['Sex'] == 'Female']\n",
    "\n",
    "male_mskcc_counts = male_data['MSKCC type'].value_counts()\n",
    "female_mskcc_counts = female_data['MSKCC type'].value_counts()\n",
    "\n",
    "categories = male_mskcc_counts.index\n",
    "\n",
    "blue_palette = ['#16558F', '#0583D2', '#61B0B7']\n",
    "\n",
    "data1 = {\n",
    "    \"values\": male_mskcc_counts.loc[categories].values,\n",
    "    \"labels\": categories,\n",
    "    \"domain\": {\"column\": 0},\n",
    "    \"name\": \"Male MSKCC Type\",\n",
    "    \"hoverinfo\": \"label+percent+name\",\n",
    "    \"hole\": 0.5,\n",
    "    \"type\": \"pie\",\n",
    "    \"marker\": {\"colors\": blue_palette}  \n",
    "}\n",
    "\n",
    "data2 = {\n",
    "    \"values\": female_mskcc_counts.loc[categories].values,\n",
    "    \"labels\": categories,\n",
    "    \"domain\": {\"column\": 1},\n",
    "    \"name\": \"Female MSKCC Type\",\n",
    "    \"hoverinfo\": \"label+percent+name\",\n",
    "    \"hole\": 0.5,\n",
    "    \"type\": \"pie\",\n",
    "    \"marker\": {\"colors\": blue_palette}  \n",
    "}\n",
    "\n",
    "data = [data1, data2]\n",
    "\n",
    "layout = go.Layout(\n",
    "    {\n",
    "        \"title\": {\n",
    "            \"text\": \"MSKCC Types by Gender (Male vs. Female)\",\n",
    "            \"font\": {\n",
    "                \"size\": 20\n",
    "            },\n",
    "            \"x\": 0.5  # Center the title\n",
    "        },\n",
    "        \"grid\": {\"rows\": 1, \"columns\": 2},\n",
    "        \"annotations\": [\n",
    "            {\n",
    "                \"font\": {\"size\": 20},\n",
    "                \"showarrow\": False,\n",
    "                \"text\": \"Male\",\n",
    "                \"x\": 0.21,\n",
    "                \"y\": 0.5\n",
    "            },\n",
    "            {\n",
    "                \"font\": {\"size\": 20},\n",
    "                \"showarrow\": False,\n",
    "                \"text\": \"Female\",\n",
    "                \"x\": 0.805,\n",
    "                \"y\": 0.5\n",
    "            }\n",
    "        ]\n",
    "    }\n",
    ")\n",
    "\n",
    "fig = go.Figure(data=data, layout=layout)\n",
    "\n",
    "pyo.iplot(fig)"
   ]
  },
  {
   "cell_type": "code",
   "execution_count": 109,
   "id": "d709a0a5",
   "metadata": {},
   "outputs": [
    {
     "data": {
      "image/png": "[encoded data removed]",
      "text/plain": [
       "<Figure size 432x288 with 1 Axes>"
      ]
     },
     "metadata": {},
     "output_type": "display_data"
    }
   ],
   "source": [
    "#Age Distribution\n",
    "import matplotlib.pyplot as plt\n",
    "\n",
    "male_data = df[df['Sex'] == 'Male']\n",
    "female_data = df[df['Sex'] == 'Female']\n",
    "\n",
    "sns.set_style('whitegrid') \n",
    "sns.set(font=\"sans-serif\")\n",
    "\n",
    "plt.figure(figsize=(6, 4))\n",
    "sns.kdeplot(data=male_data['Age'], label='Male', color='#16558F', fill=True)\n",
    "\n",
    "sns.kdeplot(data=female_data['Age'], label='Female', color='#61B0B7', fill=True)\n",
    "\n",
    "plt.xlabel('Age', fontsize=12)\n",
    "plt.ylabel('Density', fontsize=12)\n",
    "plt.title('Age Distribution by Gender', fontsize=12)\n",
    "\n",
    "plt.legend()\n",
    "\n",
    "ax = plt.gca()\n",
    "ax.set_facecolor('white')\n",
    "ax.set_frame_on(True)\n",
    "\n",
    "plt.show()"
   ]
  },
  {
   "cell_type": "code",
   "execution_count": 110,
   "id": "37604032",
   "metadata": {},
   "outputs": [
    {
     "name": "stdout",
     "output_type": "stream",
     "text": [
      "Male Site of primary STS (Percentages):\n",
      "left thigh              47.0\n",
      "right buttock           17.0\n",
      "right thigh             12.5\n",
      "right parascapusular    11.0\n",
      "left buttock             7.5\n",
      "parascapusular           3.0\n",
      "left biceps              2.0\n",
      "Name: Site of primary STS, dtype: float64\n",
      "\n",
      "Female Site of primary STS (Percentages):\n",
      "right thigh             36.666667\n",
      "left thigh              19.333333\n",
      "right buttock           12.666667\n",
      "parascapusular          11.000000\n",
      "left biceps             10.666667\n",
      "left buttock             7.000000\n",
      "right parascapusular     2.666667\n",
      "Name: Site of primary STS, dtype: float64\n"
     ]
    }
   ],
   "source": [
    "#Site of Primary STS by Gender\n",
    "male_data = df[df['Sex'] == 'Male']\n",
    "female_data = df[df['Sex'] == 'Female']\n",
    "\n",
    "total_male_count = len(male_data)\n",
    "total_female_count = len(female_data)\n",
    "\n",
    "male_site_counts = male_data['Site of primary STS'].value_counts()\n",
    "female_site_counts = female_data['Site of primary STS'].value_counts()\n",
    "\n",
    "male_site_per = (male_site_counts / total_male_count) * 100\n",
    "fem_site_per = (female_site_counts / total_female_count) * 100\n",
    "\n",
    "print(\"Male Site of primary STS (Percentages):\")\n",
    "print(male_site_per)\n",
    "print(\"\\nFemale Site of primary STS (Percentages):\")\n",
    "print(fem_site_per)"
   ]
  },
  {
   "cell_type": "code",
   "execution_count": 111,
   "id": "3af09319",
   "metadata": {},
   "outputs": [
    {
     "data": {
      "application/vnd.plotly.v1+json": {
       "config": {
        "linkText": "Export to plot.ly",
        "plotlyServerURL": "https://plot.ly",
        "showLink": false
       },
       "data": [
        {
         "domain": {
          "column": 0
         },
         "hole": 0.5,
         "hoverinfo": "label+percent+name",
         "labels": [
          "left thigh",
          "right buttock",
          "right thigh",
          "right parascapusular",
          "left buttock",
          "parascapusular",
          "left biceps"
         ],
         "marker": {
          "colors": [
           "#16558F",
           "#0583D2",
           "#61B0B7",
           "#3090A7",
           "#B68CB8",
           "#6461A0",
           "#EFBDEB"
          ]
         },
         "name": "Male Site of primary STS",
         "type": "pie",
         "values": [
          94,
          34,
          25,
          22,
          15,
          6,
          4
         ]
        },
        {
         "domain": {
          "column": 1
         },
         "hole": 0.5,
         "hoverinfo": "label+percent+name",
         "labels": [
          "left thigh",
          "right buttock",
          "right thigh",
          "right parascapusular",
          "left buttock",
          "parascapusular",
          "left biceps"
         ],
         "marker": {
          "colors": [
           "#16558F",
           "#0583D2",
           "#61B0B7",
           "#3090A7",
           "#B68CB8",
           "#6461A0",
           "#EFBDEB"
          ]
         },
         "name": "Female Site of primary STS",
         "type": "pie",
         "values": [
          58,
          38,
          110,
          8,
          21,
          33,
          32
         ]
        }
       ],
       "layout": {
        "annotations": [
         {
          "font": {
           "size": 20
          },
          "showarrow": false,
          "text": "Male",
          "x": 0.21,
          "y": 0.5
         },
         {
          "font": {
           "size": 20
          },
          "showarrow": false,
          "text": "Female",
          "x": 0.805,
          "y": 0.5
         }
        ],
        "grid": {
         "columns": 2,
         "rows": 1
        },
        "template": {
         "data": {
          "bar": [
           {
            "error_x": {
             "color": "#2a3f5f"
            },
            "error_y": {
             "color": "#2a3f5f"
            },
            "marker": {
             "line": {
              "color": "#E5ECF6",
              "width": 0.5
             },
             "pattern": {
              "fillmode": "overlay",
              "size": 10,
              "solidity": 0.2
             }
            },
            "type": "bar"
           }
          ],
          "barpolar": [
           {
            "marker": {
             "line": {
              "color": "#E5ECF6",
              "width": 0.5
             },
             "pattern": {
              "fillmode": "overlay",
              "size": 10,
              "solidity": 0.2
             }
            },
            "type": "barpolar"
           }
          ],
          "carpet": [
           {
            "aaxis": {
             "endlinecolor": "#2a3f5f",
             "gridcolor": "white",
             "linecolor": "white",
             "minorgridcolor": "white",
             "startlinecolor": "#2a3f5f"
            },
            "baxis": {
             "endlinecolor": "#2a3f5f",
             "gridcolor": "white",
             "linecolor": "white",
             "minorgridcolor": "white",
             "startlinecolor": "#2a3f5f"
            },
            "type": "carpet"
           }
          ],
          "choropleth": [
           {
            "colorbar": {
             "outlinewidth": 0,
             "ticks": ""
            },
            "type": "choropleth"
           }
          ],
          "contour": [
           {
            "colorbar": {
             "outlinewidth": 0,
             "ticks": ""
            },
            "colorscale": [
             [
              0,
              "#0d0887"
             ],
             [
              0.1111111111111111,
              "#46039f"
             ],
             [
              0.2222222222222222,
              "#7201a8"
             ],
             [
              0.3333333333333333,
              "#9c179e"
             ],
             [
              0.4444444444444444,
              "#bd3786"
             ],
             [
              0.5555555555555556,
              "#d8576b"
             ],
             [
              0.6666666666666666,
              "#ed7953"
             ],
             [
              0.7777777777777778,
              "#fb9f3a"
             ],
             [
              0.8888888888888888,
              "#fdca26"
             ],
             [
              1,
              "#f0f921"
             ]
            ],
            "type": "contour"
           }
          ],
          "contourcarpet": [
           {
            "colorbar": {
             "outlinewidth": 0,
             "ticks": ""
            },
            "type": "contourcarpet"
           }
          ],
          "heatmap": [
           {
            "colorbar": {
             "outlinewidth": 0,
             "ticks": ""
            },
            "colorscale": [
             [
              0,
              "#0d0887"
             ],
             [
              0.1111111111111111,
              "#46039f"
             ],
             [
              0.2222222222222222,
              "#7201a8"
             ],
             [
              0.3333333333333333,
              "#9c179e"
             ],
             [
              0.4444444444444444,
              "#bd3786"
             ],
             [
              0.5555555555555556,
              "#d8576b"
             ],
             [
              0.6666666666666666,
              "#ed7953"
             ],
             [
              0.7777777777777778,
              "#fb9f3a"
             ],
             [
              0.8888888888888888,
              "#fdca26"
             ],
             [
              1,
              "#f0f921"
             ]
            ],
            "type": "heatmap"
           }
          ],
          "heatmapgl": [
           {
            "colorbar": {
             "outlinewidth": 0,
             "ticks": ""
            },
            "colorscale": [
             [
              0,
              "#0d0887"
             ],
             [
              0.1111111111111111,
              "#46039f"
             ],
             [
              0.2222222222222222,
              "#7201a8"
             ],
             [
              0.3333333333333333,
              "#9c179e"
             ],
             [
              0.4444444444444444,
              "#bd3786"
             ],
             [
              0.5555555555555556,
              "#d8576b"
             ],
             [
              0.6666666666666666,
              "#ed7953"
             ],
             [
              0.7777777777777778,
              "#fb9f3a"
             ],
             [
              0.8888888888888888,
              "#fdca26"
             ],
             [
              1,
              "#f0f921"
             ]
            ],
            "type": "heatmapgl"
           }
          ],
          "histogram": [
           {
            "marker": {
             "pattern": {
              "fillmode": "overlay",
              "size": 10,
              "solidity": 0.2
             }
            },
            "type": "histogram"
           }
          ],
          "histogram2d": [
           {
            "colorbar": {
             "outlinewidth": 0,
             "ticks": ""
            },
            "colorscale": [
             [
              0,
              "#0d0887"
             ],
             [
              0.1111111111111111,
              "#46039f"
             ],
             [
              0.2222222222222222,
              "#7201a8"
             ],
             [
              0.3333333333333333,
              "#9c179e"
             ],
             [
              0.4444444444444444,
              "#bd3786"
             ],
             [
              0.5555555555555556,
              "#d8576b"
             ],
             [
              0.6666666666666666,
              "#ed7953"
             ],
             [
              0.7777777777777778,
              "#fb9f3a"
             ],
             [
              0.8888888888888888,
              "#fdca26"
             ],
             [
              1,
              "#f0f921"
             ]
            ],
            "type": "histogram2d"
           }
          ],
          "histogram2dcontour": [
           {
            "colorbar": {
             "outlinewidth": 0,
             "ticks": ""
            },
            "colorscale": [
             [
              0,
              "#0d0887"
             ],
             [
              0.1111111111111111,
              "#46039f"
             ],
             [
              0.2222222222222222,
              "#7201a8"
             ],
             [
              0.3333333333333333,
              "#9c179e"
             ],
             [
              0.4444444444444444,
              "#bd3786"
             ],
             [
              0.5555555555555556,
              "#d8576b"
             ],
             [
              0.6666666666666666,
              "#ed7953"
             ],
             [
              0.7777777777777778,
              "#fb9f3a"
             ],
             [
              0.8888888888888888,
              "#fdca26"
             ],
             [
              1,
              "#f0f921"
             ]
            ],
            "type": "histogram2dcontour"
           }
          ],
          "mesh3d": [
           {
            "colorbar": {
             "outlinewidth": 0,
             "ticks": ""
            },
            "type": "mesh3d"
           }
          ],
          "parcoords": [
           {
            "line": {
             "colorbar": {
              "outlinewidth": 0,
              "ticks": ""
             }
            },
            "type": "parcoords"
           }
          ],
          "pie": [
           {
            "automargin": true,
            "type": "pie"
           }
          ],
          "scatter": [
           {
            "marker": {
             "colorbar": {
              "outlinewidth": 0,
              "ticks": ""
             }
            },
            "type": "scatter"
           }
          ],
          "scatter3d": [
           {
            "line": {
             "colorbar": {
              "outlinewidth": 0,
              "ticks": ""
             }
            },
            "marker": {
             "colorbar": {
              "outlinewidth": 0,
              "ticks": ""
             }
            },
            "type": "scatter3d"
           }
          ],
          "scattercarpet": [
           {
            "marker": {
             "colorbar": {
              "outlinewidth": 0,
              "ticks": ""
             }
            },
            "type": "scattercarpet"
           }
          ],
          "scattergeo": [
           {
            "marker": {
             "colorbar": {
              "outlinewidth": 0,
              "ticks": ""
             }
            },
            "type": "scattergeo"
           }
          ],
          "scattergl": [
           {
            "marker": {
             "colorbar": {
              "outlinewidth": 0,
              "ticks": ""
             }
            },
            "type": "scattergl"
           }
          ],
          "scattermapbox": [
           {
            "marker": {
             "colorbar": {
              "outlinewidth": 0,
              "ticks": ""
             }
            },
            "type": "scattermapbox"
           }
          ],
          "scatterpolar": [
           {
            "marker": {
             "colorbar": {
              "outlinewidth": 0,
              "ticks": ""
             }
            },
            "type": "scatterpolar"
           }
          ],
          "scatterpolargl": [
           {
            "marker": {
             "colorbar": {
              "outlinewidth": 0,
              "ticks": ""
             }
            },
            "type": "scatterpolargl"
           }
          ],
          "scatterternary": [
           {
            "marker": {
             "colorbar": {
              "outlinewidth": 0,
              "ticks": ""
             }
            },
            "type": "scatterternary"
           }
          ],
          "surface": [
           {
            "colorbar": {
             "outlinewidth": 0,
             "ticks": ""
            },
            "colorscale": [
             [
              0,
              "#0d0887"
             ],
             [
              0.1111111111111111,
              "#46039f"
             ],
             [
              0.2222222222222222,
              "#7201a8"
             ],
             [
              0.3333333333333333,
              "#9c179e"
             ],
             [
              0.4444444444444444,
              "#bd3786"
             ],
             [
              0.5555555555555556,
              "#d8576b"
             ],
             [
              0.6666666666666666,
              "#ed7953"
             ],
             [
              0.7777777777777778,
              "#fb9f3a"
             ],
             [
              0.8888888888888888,
              "#fdca26"
             ],
             [
              1,
              "#f0f921"
             ]
            ],
            "type": "surface"
           }
          ],
          "table": [
           {
            "cells": {
             "fill": {
              "color": "#EBF0F8"
             },
             "line": {
              "color": "white"
             }
            },
            "header": {
             "fill": {
              "color": "#C8D4E3"
             },
             "line": {
              "color": "white"
             }
            },
            "type": "table"
           }
          ]
         },
         "layout": {
          "annotationdefaults": {
           "arrowcolor": "#2a3f5f",
           "arrowhead": 0,
           "arrowwidth": 1
          },
          "autotypenumbers": "strict",
          "coloraxis": {
           "colorbar": {
            "outlinewidth": 0,
            "ticks": ""
           }
          },
          "colorscale": {
           "diverging": [
            [
             0,
             "#8e0152"
            ],
            [
             0.1,
             "#c51b7d"
            ],
            [
             0.2,
             "#de77ae"
            ],
            [
             0.3,
             "#f1b6da"
            ],
            [
             0.4,
             "#fde0ef"
            ],
            [
             0.5,
             "#f7f7f7"
            ],
            [
             0.6,
             "#e6f5d0"
            ],
            [
             0.7,
             "#b8e186"
            ],
            [
             0.8,
             "#7fbc41"
            ],
            [
             0.9,
             "#4d9221"
            ],
            [
             1,
             "#276419"
            ]
           ],
           "sequential": [
            [
             0,
             "#0d0887"
            ],
            [
             0.1111111111111111,
             "#46039f"
            ],
            [
             0.2222222222222222,
             "#7201a8"
            ],
            [
             0.3333333333333333,
             "#9c179e"
            ],
            [
             0.4444444444444444,
             "#bd3786"
            ],
            [
             0.5555555555555556,
             "#d8576b"
            ],
            [
             0.6666666666666666,
             "#ed7953"
            ],
            [
             0.7777777777777778,
             "#fb9f3a"
            ],
            [
             0.8888888888888888,
             "#fdca26"
            ],
            [
             1,
             "#f0f921"
            ]
           ],
           "sequentialminus": [
            [
             0,
             "#0d0887"
            ],
            [
             0.1111111111111111,
             "#46039f"
            ],
            [
             0.2222222222222222,
             "#7201a8"
            ],
            [
             0.3333333333333333,
             "#9c179e"
            ],
            [
             0.4444444444444444,
             "#bd3786"
            ],
            [
             0.5555555555555556,
             "#d8576b"
            ],
            [
             0.6666666666666666,
             "#ed7953"
            ],
            [
             0.7777777777777778,
             "#fb9f3a"
            ],
            [
             0.8888888888888888,
             "#fdca26"
            ],
            [
             1,
             "#f0f921"
            ]
           ]
          },
          "colorway": [
           "#636efa",
           "#EF553B",
           "#00cc96",
           "#ab63fa",
           "#FFA15A",
           "#19d3f3",
           "#FF6692",
           "#B6E880",
           "#FF97FF",
           "#FECB52"
          ],
          "font": {
           "color": "#2a3f5f"
          },
          "geo": {
           "bgcolor": "white",
           "lakecolor": "white",
           "landcolor": "#E5ECF6",
           "showlakes": true,
           "showland": true,
           "subunitcolor": "white"
          },
          "hoverlabel": {
           "align": "left"
          },
          "hovermode": "closest",
          "mapbox": {
           "style": "light"
          },
          "paper_bgcolor": "white",
          "plot_bgcolor": "#E5ECF6",
          "polar": {
           "angularaxis": {
            "gridcolor": "white",
            "linecolor": "white",
            "ticks": ""
           },
           "bgcolor": "#E5ECF6",
           "radialaxis": {
            "gridcolor": "white",
            "linecolor": "white",
            "ticks": ""
           }
          },
          "scene": {
           "xaxis": {
            "backgroundcolor": "#E5ECF6",
            "gridcolor": "white",
            "gridwidth": 2,
            "linecolor": "white",
            "showbackground": true,
            "ticks": "",
            "zerolinecolor": "white"
           },
           "yaxis": {
            "backgroundcolor": "#E5ECF6",
            "gridcolor": "white",
            "gridwidth": 2,
            "linecolor": "white",
            "showbackground": true,
            "ticks": "",
            "zerolinecolor": "white"
           },
           "zaxis": {
            "backgroundcolor": "#E5ECF6",
            "gridcolor": "white",
            "gridwidth": 2,
            "linecolor": "white",
            "showbackground": true,
            "ticks": "",
            "zerolinecolor": "white"
           }
          },
          "shapedefaults": {
           "line": {
            "color": "#2a3f5f"
           }
          },
          "ternary": {
           "aaxis": {
            "gridcolor": "white",
            "linecolor": "white",
            "ticks": ""
           },
           "baxis": {
            "gridcolor": "white",
            "linecolor": "white",
            "ticks": ""
           },
           "bgcolor": "#E5ECF6",
           "caxis": {
            "gridcolor": "white",
            "linecolor": "white",
            "ticks": ""
           }
          },
          "title": {
           "x": 0.05
          },
          "xaxis": {
           "automargin": true,
           "gridcolor": "white",
           "linecolor": "white",
           "ticks": "",
           "title": {
            "standoff": 15
           },
           "zerolinecolor": "white",
           "zerolinewidth": 2
          },
          "yaxis": {
           "automargin": true,
           "gridcolor": "white",
           "linecolor": "white",
           "ticks": "",
           "title": {
            "standoff": 15
           },
           "zerolinecolor": "white",
           "zerolinewidth": 2
          }
         }
        },
        "title": {
         "font": {
          "size": 20
         },
         "text": "Site of Primary STS by Gender",
         "x": 0.5
        }
       }
      },
      "text/html": [
       "<div>                            <div id=\"ee1e36a8-e7dc-4d16-a976-854238b912ad\" class=\"plotly-graph-div\" style=\"height:525px; width:100%;\"></div>            <script type=\"text/javascript\">                require([\"plotly\"], function(Plotly) {                    window.PLOTLYENV=window.PLOTLYENV || {};                                    if (document.getElementById(\"ee1e36a8-e7dc-4d16-a976-854238b912ad\")) {                    Plotly.newPlot(                        \"ee1e36a8-e7dc-4d16-a976-854238b912ad\",                        [{\"domain\":{\"column\":0},\"hole\":0.5,\"hoverinfo\":\"label+percent+name\",\"labels\":[\"left thigh\",\"right buttock\",\"right thigh\",\"right parascapusular\",\"left buttock\",\"parascapusular\",\"left biceps\"],\"marker\":{\"colors\":[\"#16558F\",\"#0583D2\",\"#61B0B7\",\"#3090A7\",\"#B68CB8\",\"#6461A0\",\"#EFBDEB\"]},\"name\":\"Male Site of primary STS\",\"values\":[94,34,25,22,15,6,4],\"type\":\"pie\"},{\"domain\":{\"column\":1},\"hole\":0.5,\"hoverinfo\":\"label+percent+name\",\"labels\":[\"left thigh\",\"right buttock\",\"right thigh\",\"right parascapusular\",\"left buttock\",\"parascapusular\",\"left biceps\"],\"marker\":{\"colors\":[\"#16558F\",\"#0583D2\",\"#61B0B7\",\"#3090A7\",\"#B68CB8\",\"#6461A0\",\"#EFBDEB\"]},\"name\":\"Female Site of primary STS\",\"values\":[58,38,110,8,21,33,32],\"type\":\"pie\"}],                        {\"annotations\":[{\"font\":{\"size\":20},\"showarrow\":false,\"text\":\"Male\",\"x\":0.21,\"y\":0.5},{\"font\":{\"size\":20},\"showarrow\":false,\"text\":\"Female\",\"x\":0.805,\"y\":0.5}],\"grid\":{\"columns\":2,\"rows\":1},\"template\":{\"data\":{\"barpolar\":[{\"marker\":{\"line\":{\"color\":\"#E5ECF6\",\"width\":0.5},\"pattern\":{\"fillmode\":\"overlay\",\"size\":10,\"solidity\":0.2}},\"type\":\"barpolar\"}],\"bar\":[{\"error_x\":{\"color\":\"#2a3f5f\"},\"error_y\":{\"color\":\"#2a3f5f\"},\"marker\":{\"line\":{\"color\":\"#E5ECF6\",\"width\":0.5},\"pattern\":{\"fillmode\":\"overlay\",\"size\":10,\"solidity\":0.2}},\"type\":\"bar\"}],\"carpet\":[{\"aaxis\":{\"endlinecolor\":\"#2a3f5f\",\"gridcolor\":\"white\",\"linecolor\":\"white\",\"minorgridcolor\":\"white\",\"startlinecolor\":\"#2a3f5f\"},\"baxis\":{\"endlinecolor\":\"#2a3f5f\",\"gridcolor\":\"white\",\"linecolor\":\"white\",\"minorgridcolor\":\"white\",\"startlinecolor\":\"#2a3f5f\"},\"type\":\"carpet\"}],\"choropleth\":[{\"colorbar\":{\"outlinewidth\":0,\"ticks\":\"\"},\"type\":\"choropleth\"}],\"contourcarpet\":[{\"colorbar\":{\"outlinewidth\":0,\"ticks\":\"\"},\"type\":\"contourcarpet\"}],\"contour\":[{\"colorbar\":{\"outlinewidth\":0,\"ticks\":\"\"},\"colorscale\":[[0.0,\"#0d0887\"],[0.1111111111111111,\"#46039f\"],[0.2222222222222222,\"#7201a8\"],[0.3333333333333333,\"#9c179e\"],[0.4444444444444444,\"#bd3786\"],[0.5555555555555556,\"#d8576b\"],[0.6666666666666666,\"#ed7953\"],[0.7777777777777778,\"#fb9f3a\"],[0.8888888888888888,\"#fdca26\"],[1.0,\"#f0f921\"]],\"type\":\"contour\"}],\"heatmapgl\":[{\"colorbar\":{\"outlinewidth\":0,\"ticks\":\"\"},\"colorscale\":[[0.0,\"#0d0887\"],[0.1111111111111111,\"#46039f\"],[0.2222222222222222,\"#7201a8\"],[0.3333333333333333,\"#9c179e\"],[0.4444444444444444,\"#bd3786\"],[0.5555555555555556,\"#d8576b\"],[0.6666666666666666,\"#ed7953\"],[0.7777777777777778,\"#fb9f3a\"],[0.8888888888888888,\"#fdca26\"],[1.0,\"#f0f921\"]],\"type\":\"heatmapgl\"}],\"heatmap\":[{\"colorbar\":{\"outlinewidth\":0,\"ticks\":\"\"},\"colorscale\":[[0.0,\"#0d0887\"],[0.1111111111111111,\"#46039f\"],[0.2222222222222222,\"#7201a8\"],[0.3333333333333333,\"#9c179e\"],[0.4444444444444444,\"#bd3786\"],[0.5555555555555556,\"#d8576b\"],[0.6666666666666666,\"#ed7953\"],[0.7777777777777778,\"#fb9f3a\"],[0.8888888888888888,\"#fdca26\"],[1.0,\"#f0f921\"]],\"type\":\"heatmap\"}],\"histogram2dcontour\":[{\"colorbar\":{\"outlinewidth\":0,\"ticks\":\"\"},\"colorscale\":[[0.0,\"#0d0887\"],[0.1111111111111111,\"#46039f\"],[0.2222222222222222,\"#7201a8\"],[0.3333333333333333,\"#9c179e\"],[0.4444444444444444,\"#bd3786\"],[0.5555555555555556,\"#d8576b\"],[0.6666666666666666,\"#ed7953\"],[0.7777777777777778,\"#fb9f3a\"],[0.8888888888888888,\"#fdca26\"],[1.0,\"#f0f921\"]],\"type\":\"histogram2dcontour\"}],\"histogram2d\":[{\"colorbar\":{\"outlinewidth\":0,\"ticks\":\"\"},\"colorscale\":[[0.0,\"#0d0887\"],[0.1111111111111111,\"#46039f\"],[0.2222222222222222,\"#7201a8\"],[0.3333333333333333,\"#9c179e\"],[0.4444444444444444,\"#bd3786\"],[0.5555555555555556,\"#d8576b\"],[0.6666666666666666,\"#ed7953\"],[0.7777777777777778,\"#fb9f3a\"],[0.8888888888888888,\"#fdca26\"],[1.0,\"#f0f921\"]],\"type\":\"histogram2d\"}],\"histogram\":[{\"marker\":{\"pattern\":{\"fillmode\":\"overlay\",\"size\":10,\"solidity\":0.2}},\"type\":\"histogram\"}],\"mesh3d\":[{\"colorbar\":{\"outlinewidth\":0,\"ticks\":\"\"},\"type\":\"mesh3d\"}],\"parcoords\":[{\"line\":{\"colorbar\":{\"outlinewidth\":0,\"ticks\":\"\"}},\"type\":\"parcoords\"}],\"pie\":[{\"automargin\":true,\"type\":\"pie\"}],\"scatter3d\":[{\"line\":{\"colorbar\":{\"outlinewidth\":0,\"ticks\":\"\"}},\"marker\":{\"colorbar\":{\"outlinewidth\":0,\"ticks\":\"\"}},\"type\":\"scatter3d\"}],\"scattercarpet\":[{\"marker\":{\"colorbar\":{\"outlinewidth\":0,\"ticks\":\"\"}},\"type\":\"scattercarpet\"}],\"scattergeo\":[{\"marker\":{\"colorbar\":{\"outlinewidth\":0,\"ticks\":\"\"}},\"type\":\"scattergeo\"}],\"scattergl\":[{\"marker\":{\"colorbar\":{\"outlinewidth\":0,\"ticks\":\"\"}},\"type\":\"scattergl\"}],\"scattermapbox\":[{\"marker\":{\"colorbar\":{\"outlinewidth\":0,\"ticks\":\"\"}},\"type\":\"scattermapbox\"}],\"scatterpolargl\":[{\"marker\":{\"colorbar\":{\"outlinewidth\":0,\"ticks\":\"\"}},\"type\":\"scatterpolargl\"}],\"scatterpolar\":[{\"marker\":{\"colorbar\":{\"outlinewidth\":0,\"ticks\":\"\"}},\"type\":\"scatterpolar\"}],\"scatter\":[{\"marker\":{\"colorbar\":{\"outlinewidth\":0,\"ticks\":\"\"}},\"type\":\"scatter\"}],\"scatterternary\":[{\"marker\":{\"colorbar\":{\"outlinewidth\":0,\"ticks\":\"\"}},\"type\":\"scatterternary\"}],\"surface\":[{\"colorbar\":{\"outlinewidth\":0,\"ticks\":\"\"},\"colorscale\":[[0.0,\"#0d0887\"],[0.1111111111111111,\"#46039f\"],[0.2222222222222222,\"#7201a8\"],[0.3333333333333333,\"#9c179e\"],[0.4444444444444444,\"#bd3786\"],[0.5555555555555556,\"#d8576b\"],[0.6666666666666666,\"#ed7953\"],[0.7777777777777778,\"#fb9f3a\"],[0.8888888888888888,\"#fdca26\"],[1.0,\"#f0f921\"]],\"type\":\"surface\"}],\"table\":[{\"cells\":{\"fill\":{\"color\":\"#EBF0F8\"},\"line\":{\"color\":\"white\"}},\"header\":{\"fill\":{\"color\":\"#C8D4E3\"},\"line\":{\"color\":\"white\"}},\"type\":\"table\"}]},\"layout\":{\"annotationdefaults\":{\"arrowcolor\":\"#2a3f5f\",\"arrowhead\":0,\"arrowwidth\":1},\"autotypenumbers\":\"strict\",\"coloraxis\":{\"colorbar\":{\"outlinewidth\":0,\"ticks\":\"\"}},\"colorscale\":{\"diverging\":[[0,\"#8e0152\"],[0.1,\"#c51b7d\"],[0.2,\"#de77ae\"],[0.3,\"#f1b6da\"],[0.4,\"#fde0ef\"],[0.5,\"#f7f7f7\"],[0.6,\"#e6f5d0\"],[0.7,\"#b8e186\"],[0.8,\"#7fbc41\"],[0.9,\"#4d9221\"],[1,\"#276419\"]],\"sequential\":[[0.0,\"#0d0887\"],[0.1111111111111111,\"#46039f\"],[0.2222222222222222,\"#7201a8\"],[0.3333333333333333,\"#9c179e\"],[0.4444444444444444,\"#bd3786\"],[0.5555555555555556,\"#d8576b\"],[0.6666666666666666,\"#ed7953\"],[0.7777777777777778,\"#fb9f3a\"],[0.8888888888888888,\"#fdca26\"],[1.0,\"#f0f921\"]],\"sequentialminus\":[[0.0,\"#0d0887\"],[0.1111111111111111,\"#46039f\"],[0.2222222222222222,\"#7201a8\"],[0.3333333333333333,\"#9c179e\"],[0.4444444444444444,\"#bd3786\"],[0.5555555555555556,\"#d8576b\"],[0.6666666666666666,\"#ed7953\"],[0.7777777777777778,\"#fb9f3a\"],[0.8888888888888888,\"#fdca26\"],[1.0,\"#f0f921\"]]},\"colorway\":[\"#636efa\",\"#EF553B\",\"#00cc96\",\"#ab63fa\",\"#FFA15A\",\"#19d3f3\",\"#FF6692\",\"#B6E880\",\"#FF97FF\",\"#FECB52\"],\"font\":{\"color\":\"#2a3f5f\"},\"geo\":{\"bgcolor\":\"white\",\"lakecolor\":\"white\",\"landcolor\":\"#E5ECF6\",\"showlakes\":true,\"showland\":true,\"subunitcolor\":\"white\"},\"hoverlabel\":{\"align\":\"left\"},\"hovermode\":\"closest\",\"mapbox\":{\"style\":\"light\"},\"paper_bgcolor\":\"white\",\"plot_bgcolor\":\"#E5ECF6\",\"polar\":{\"angularaxis\":{\"gridcolor\":\"white\",\"linecolor\":\"white\",\"ticks\":\"\"},\"bgcolor\":\"#E5ECF6\",\"radialaxis\":{\"gridcolor\":\"white\",\"linecolor\":\"white\",\"ticks\":\"\"}},\"scene\":{\"xaxis\":{\"backgroundcolor\":\"#E5ECF6\",\"gridcolor\":\"white\",\"gridwidth\":2,\"linecolor\":\"white\",\"showbackground\":true,\"ticks\":\"\",\"zerolinecolor\":\"white\"},\"yaxis\":{\"backgroundcolor\":\"#E5ECF6\",\"gridcolor\":\"white\",\"gridwidth\":2,\"linecolor\":\"white\",\"showbackground\":true,\"ticks\":\"\",\"zerolinecolor\":\"white\"},\"zaxis\":{\"backgroundcolor\":\"#E5ECF6\",\"gridcolor\":\"white\",\"gridwidth\":2,\"linecolor\":\"white\",\"showbackground\":true,\"ticks\":\"\",\"zerolinecolor\":\"white\"}},\"shapedefaults\":{\"line\":{\"color\":\"#2a3f5f\"}},\"ternary\":{\"aaxis\":{\"gridcolor\":\"white\",\"linecolor\":\"white\",\"ticks\":\"\"},\"baxis\":{\"gridcolor\":\"white\",\"linecolor\":\"white\",\"ticks\":\"\"},\"bgcolor\":\"#E5ECF6\",\"caxis\":{\"gridcolor\":\"white\",\"linecolor\":\"white\",\"ticks\":\"\"}},\"title\":{\"x\":0.05},\"xaxis\":{\"automargin\":true,\"gridcolor\":\"white\",\"linecolor\":\"white\",\"ticks\":\"\",\"title\":{\"standoff\":15},\"zerolinecolor\":\"white\",\"zerolinewidth\":2},\"yaxis\":{\"automargin\":true,\"gridcolor\":\"white\",\"linecolor\":\"white\",\"ticks\":\"\",\"title\":{\"standoff\":15},\"zerolinecolor\":\"white\",\"zerolinewidth\":2}}},\"title\":{\"font\":{\"size\":20},\"text\":\"Site of Primary STS by Gender\",\"x\":0.5}},                        {\"responsive\": true}                    ).then(function(){\n",
       "                            \n",
       "var gd = document.getElementById('ee1e36a8-e7dc-4d16-a976-854238b912ad');\n",
       "var x = new MutationObserver(function (mutations, observer) {{\n",
       "        var display = window.getComputedStyle(gd).display;\n",
       "        if (!display || display === 'none') {{\n",
       "            console.log([gd, 'removed!']);\n",
       "            Plotly.purge(gd);\n",
       "            observer.disconnect();\n",
       "        }}\n",
       "}});\n",
       "\n",
       "// Listen for the removal of the full notebook cells\n",
       "var notebookContainer = gd.closest('#notebook-container');\n",
       "if (notebookContainer) {{\n",
       "    x.observe(notebookContainer, {childList: true});\n",
       "}}\n",
       "\n",
       "// Listen for the clearing of the current output cell\n",
       "var outputEl = gd.closest('.output');\n",
       "if (outputEl) {{\n",
       "    x.observe(outputEl, {childList: true});\n",
       "}}\n",
       "\n",
       "                        })                };                });            </script>        </div>"
      ]
     },
     "metadata": {},
     "output_type": "display_data"
    }
   ],
   "source": [
    "\n",
    "male_site_counts = male_data['Site of primary STS'].value_counts()\n",
    "female_site_counts = female_data['Site of primary STS'].value_counts()\n",
    "\n",
    "categories = male_site_counts.index\n",
    "\n",
    "blue_palette = ['#16558F', '#0583D2', '#61B0B7', '#3090A7', '#B68CB8', '#6461A0', '#EFBDEB']\n",
    "\n",
    "data1 = {\n",
    "    \"values\": male_site_counts.loc[categories].values,\n",
    "    \"labels\": categories,\n",
    "    \"domain\": {\"column\": 0},\n",
    "    \"name\": \"Male Site of primary STS\",\n",
    "    \"hoverinfo\": \"label+percent+name\",\n",
    "    \"hole\": 0.5,\n",
    "    \"type\": \"pie\",\n",
    "    \"marker\": {\"colors\": blue_palette}  \n",
    "}\n",
    "\n",
    "data2 = {\n",
    "    \"values\": female_site_counts.loc[categories].values,\n",
    "    \"labels\": categories,\n",
    "    \"domain\": {\"column\": 1},\n",
    "    \"name\": \"Female Site of primary STS\",\n",
    "    \"hoverinfo\": \"label+percent+name\",\n",
    "    \"hole\": 0.5,\n",
    "    \"type\": \"pie\",\n",
    "    \"marker\": {\"colors\": blue_palette}  \n",
    "}\n",
    "\n",
    "data = [data1, data2]\n",
    "\n",
    "layout = go.Layout(\n",
    "    {\n",
    "        \"title\": {\n",
    "            \"text\": \"Site of Primary STS by Gender\",\n",
    "            \"font\": {\n",
    "                \"size\": 20\n",
    "            },\n",
    "            \"x\": 0.5  # Center the title\n",
    "        },\n",
    "        \"grid\": {\"rows\": 1, \"columns\": 2},\n",
    "        \"annotations\": [\n",
    "            {\n",
    "                \"font\": {\"size\": 20},\n",
    "                \"showarrow\": False,\n",
    "                \"text\": \"Male\",\n",
    "                \"x\": 0.21,\n",
    "                \"y\": 0.5\n",
    "            },\n",
    "            {\n",
    "                \"font\": {\"size\": 20},\n",
    "                \"showarrow\": False,\n",
    "                \"text\": \"Female\",\n",
    "                \"x\": 0.805,\n",
    "                \"y\": 0.5\n",
    "            }\n",
    "        ]\n",
    "    }\n",
    ")\n",
    "\n",
    "fig = go.Figure(data=data, layout=layout)\n",
    "\n",
    "pyo.iplot(fig)"
   ]
  },
  {
   "cell_type": "code",
   "execution_count": 112,
   "id": "f2b0306f",
   "metadata": {},
   "outputs": [],
   "source": [
    "\n",
    "cols = ['Patient ID', 'Sex', 'Grade', 'Histological type', 'MSKCC type',\n",
    "       'Site of primary STS', 'Status (NED, AWD, D)', 'Treatment']\n",
    "le=LabelEncoder()\n",
    "for i in cols:\n",
    "    df[i]=le.fit_transform(df[i])"
   ]
  },
  {
   "cell_type": "code",
   "execution_count": 195,
   "id": "ec067f8e",
   "metadata": {},
   "outputs": [
    {
     "data": {
      "text/html": [
       "<div>\n",
       "<style scoped>\n",
       "    .dataframe tbody tr th:only-of-type {\n",
       "        vertical-align: middle;\n",
       "    }\n",
       "\n",
       "    .dataframe tbody tr th {\n",
       "        vertical-align: top;\n",
       "    }\n",
       "\n",
       "    .dataframe thead th {\n",
       "        text-align: right;\n",
       "    }\n",
       "</style>\n",
       "<table border=\"1\" class=\"dataframe\">\n",
       "  <thead>\n",
       "    <tr style=\"text-align: right;\">\n",
       "      <th></th>\n",
       "      <th>Patient ID</th>\n",
       "      <th>Sex</th>\n",
       "      <th>Age</th>\n",
       "      <th>Grade</th>\n",
       "      <th>Histological type</th>\n",
       "      <th>MSKCC type</th>\n",
       "      <th>Site of primary STS</th>\n",
       "      <th>Status (NED, AWD, D)</th>\n",
       "      <th>Treatment</th>\n",
       "    </tr>\n",
       "  </thead>\n",
       "  <tbody>\n",
       "    <tr>\n",
       "      <th>count</th>\n",
       "      <td>500.000000</td>\n",
       "      <td>500.000000</td>\n",
       "      <td>500.000000</td>\n",
       "      <td>500.000000</td>\n",
       "      <td>500.000000</td>\n",
       "      <td>500.000000</td>\n",
       "      <td>500.000000</td>\n",
       "      <td>500.000000</td>\n",
       "      <td>500.000000</td>\n",
       "    </tr>\n",
       "    <tr>\n",
       "      <th>mean</th>\n",
       "      <td>9.066000</td>\n",
       "      <td>0.400000</td>\n",
       "      <td>55.396000</td>\n",
       "      <td>0.564000</td>\n",
       "      <td>6.198000</td>\n",
       "      <td>0.974000</td>\n",
       "      <td>3.410000</td>\n",
       "      <td>1.270000</td>\n",
       "      <td>0.542000</td>\n",
       "    </tr>\n",
       "    <tr>\n",
       "      <th>std</th>\n",
       "      <td>5.120751</td>\n",
       "      <td>0.490389</td>\n",
       "      <td>16.131573</td>\n",
       "      <td>0.496384</td>\n",
       "      <td>3.488141</td>\n",
       "      <td>0.741906</td>\n",
       "      <td>1.973243</td>\n",
       "      <td>0.803986</td>\n",
       "      <td>0.710807</td>\n",
       "    </tr>\n",
       "    <tr>\n",
       "      <th>min</th>\n",
       "      <td>0.000000</td>\n",
       "      <td>0.000000</td>\n",
       "      <td>17.000000</td>\n",
       "      <td>0.000000</td>\n",
       "      <td>0.000000</td>\n",
       "      <td>0.000000</td>\n",
       "      <td>0.000000</td>\n",
       "      <td>0.000000</td>\n",
       "      <td>0.000000</td>\n",
       "    </tr>\n",
       "    <tr>\n",
       "      <th>25%</th>\n",
       "      <td>4.000000</td>\n",
       "      <td>0.000000</td>\n",
       "      <td>44.000000</td>\n",
       "      <td>0.000000</td>\n",
       "      <td>3.000000</td>\n",
       "      <td>0.000000</td>\n",
       "      <td>2.000000</td>\n",
       "      <td>1.000000</td>\n",
       "      <td>0.000000</td>\n",
       "    </tr>\n",
       "    <tr>\n",
       "      <th>50%</th>\n",
       "      <td>10.000000</td>\n",
       "      <td>0.000000</td>\n",
       "      <td>56.000000</td>\n",
       "      <td>1.000000</td>\n",
       "      <td>5.000000</td>\n",
       "      <td>1.000000</td>\n",
       "      <td>3.000000</td>\n",
       "      <td>1.000000</td>\n",
       "      <td>0.000000</td>\n",
       "    </tr>\n",
       "    <tr>\n",
       "      <th>75%</th>\n",
       "      <td>14.000000</td>\n",
       "      <td>1.000000</td>\n",
       "      <td>68.000000</td>\n",
       "      <td>1.000000</td>\n",
       "      <td>10.000000</td>\n",
       "      <td>2.000000</td>\n",
       "      <td>6.000000</td>\n",
       "      <td>2.000000</td>\n",
       "      <td>1.000000</td>\n",
       "    </tr>\n",
       "    <tr>\n",
       "      <th>max</th>\n",
       "      <td>17.000000</td>\n",
       "      <td>1.000000</td>\n",
       "      <td>83.000000</td>\n",
       "      <td>1.000000</td>\n",
       "      <td>12.000000</td>\n",
       "      <td>2.000000</td>\n",
       "      <td>6.000000</td>\n",
       "      <td>2.000000</td>\n",
       "      <td>2.000000</td>\n",
       "    </tr>\n",
       "  </tbody>\n",
       "</table>\n",
       "</div>"
      ],
      "text/plain": [
       "       Patient ID         Sex         Age       Grade  Histological type  \\\n",
       "count  500.000000  500.000000  500.000000  500.000000         500.000000   \n",
       "mean     9.066000    0.400000   55.396000    0.564000           6.198000   \n",
       "std      5.120751    0.490389   16.131573    0.496384           3.488141   \n",
       "min      0.000000    0.000000   17.000000    0.000000           0.000000   \n",
       "25%      4.000000    0.000000   44.000000    0.000000           3.000000   \n",
       "50%     10.000000    0.000000   56.000000    1.000000           5.000000   \n",
       "75%     14.000000    1.000000   68.000000    1.000000          10.000000   \n",
       "max     17.000000    1.000000   83.000000    1.000000          12.000000   \n",
       "\n",
       "       MSKCC type  Site of primary STS  Status (NED, AWD, D)   Treatment  \n",
       "count  500.000000           500.000000            500.000000  500.000000  \n",
       "mean     0.974000             3.410000              1.270000    0.542000  \n",
       "std      0.741906             1.973243              0.803986    0.710807  \n",
       "min      0.000000             0.000000              0.000000    0.000000  \n",
       "25%      0.000000             2.000000              1.000000    0.000000  \n",
       "50%      1.000000             3.000000              1.000000    0.000000  \n",
       "75%      2.000000             6.000000              2.000000    1.000000  \n",
       "max      2.000000             6.000000              2.000000    2.000000  "
      ]
     },
     "execution_count": 195,
     "metadata": {},
     "output_type": "execute_result"
    }
   ],
   "source": [
    "df.describe()"
   ]
  },
  {
   "cell_type": "code",
   "execution_count": 114,
   "id": "a758072b",
   "metadata": {
    "scrolled": true
   },
   "outputs": [
    {
     "data": {
      "text/html": [
       "<div>\n",
       "<style scoped>\n",
       "    .dataframe tbody tr th:only-of-type {\n",
       "        vertical-align: middle;\n",
       "    }\n",
       "\n",
       "    .dataframe tbody tr th {\n",
       "        vertical-align: top;\n",
       "    }\n",
       "\n",
       "    .dataframe thead th {\n",
       "        text-align: right;\n",
       "    }\n",
       "</style>\n",
       "<table border=\"1\" class=\"dataframe\">\n",
       "  <thead>\n",
       "    <tr style=\"text-align: right;\">\n",
       "      <th></th>\n",
       "      <th>Patient ID</th>\n",
       "      <th>Sex</th>\n",
       "      <th>Age</th>\n",
       "      <th>Grade</th>\n",
       "      <th>Histological type</th>\n",
       "      <th>MSKCC type</th>\n",
       "      <th>Site of primary STS</th>\n",
       "      <th>Status (NED, AWD, D)</th>\n",
       "      <th>Treatment</th>\n",
       "    </tr>\n",
       "  </thead>\n",
       "  <tbody>\n",
       "    <tr>\n",
       "      <th>Patient ID</th>\n",
       "      <td>1.000000</td>\n",
       "      <td>0.246435</td>\n",
       "      <td>-0.109438</td>\n",
       "      <td>-0.171566</td>\n",
       "      <td>0.119876</td>\n",
       "      <td>0.105951</td>\n",
       "      <td>0.003266</td>\n",
       "      <td>-0.186386</td>\n",
       "      <td>0.178448</td>\n",
       "    </tr>\n",
       "    <tr>\n",
       "      <th>Sex</th>\n",
       "      <td>0.246435</td>\n",
       "      <td>1.000000</td>\n",
       "      <td>-0.143687</td>\n",
       "      <td>-0.533478</td>\n",
       "      <td>0.155115</td>\n",
       "      <td>0.094741</td>\n",
       "      <td>-0.134615</td>\n",
       "      <td>-0.574367</td>\n",
       "      <td>0.388646</td>\n",
       "    </tr>\n",
       "    <tr>\n",
       "      <th>Age</th>\n",
       "      <td>-0.109438</td>\n",
       "      <td>-0.143687</td>\n",
       "      <td>1.000000</td>\n",
       "      <td>0.056643</td>\n",
       "      <td>-0.181037</td>\n",
       "      <td>-0.257674</td>\n",
       "      <td>-0.106849</td>\n",
       "      <td>0.121997</td>\n",
       "      <td>-0.235473</td>\n",
       "    </tr>\n",
       "    <tr>\n",
       "      <th>Grade</th>\n",
       "      <td>-0.171566</td>\n",
       "      <td>-0.533478</td>\n",
       "      <td>0.056643</td>\n",
       "      <td>1.000000</td>\n",
       "      <td>-0.090088</td>\n",
       "      <td>0.007248</td>\n",
       "      <td>0.174686</td>\n",
       "      <td>0.401017</td>\n",
       "      <td>-0.271743</td>\n",
       "    </tr>\n",
       "    <tr>\n",
       "      <th>Histological type</th>\n",
       "      <td>0.119876</td>\n",
       "      <td>0.155115</td>\n",
       "      <td>-0.181037</td>\n",
       "      <td>-0.090088</td>\n",
       "      <td>1.000000</td>\n",
       "      <td>0.169260</td>\n",
       "      <td>0.026323</td>\n",
       "      <td>-0.155588</td>\n",
       "      <td>0.240331</td>\n",
       "    </tr>\n",
       "    <tr>\n",
       "      <th>MSKCC type</th>\n",
       "      <td>0.105951</td>\n",
       "      <td>0.094741</td>\n",
       "      <td>-0.257674</td>\n",
       "      <td>0.007248</td>\n",
       "      <td>0.169260</td>\n",
       "      <td>1.000000</td>\n",
       "      <td>0.144186</td>\n",
       "      <td>-0.189790</td>\n",
       "      <td>0.300385</td>\n",
       "    </tr>\n",
       "    <tr>\n",
       "      <th>Site of primary STS</th>\n",
       "      <td>0.003266</td>\n",
       "      <td>-0.134615</td>\n",
       "      <td>-0.106849</td>\n",
       "      <td>0.174686</td>\n",
       "      <td>0.026323</td>\n",
       "      <td>0.144186</td>\n",
       "      <td>1.000000</td>\n",
       "      <td>0.100614</td>\n",
       "      <td>-0.073025</td>\n",
       "    </tr>\n",
       "    <tr>\n",
       "      <th>Status (NED, AWD, D)</th>\n",
       "      <td>-0.186386</td>\n",
       "      <td>-0.574367</td>\n",
       "      <td>0.121997</td>\n",
       "      <td>0.401017</td>\n",
       "      <td>-0.155588</td>\n",
       "      <td>-0.189790</td>\n",
       "      <td>0.100614</td>\n",
       "      <td>1.000000</td>\n",
       "      <td>-0.463482</td>\n",
       "    </tr>\n",
       "    <tr>\n",
       "      <th>Treatment</th>\n",
       "      <td>0.178448</td>\n",
       "      <td>0.388646</td>\n",
       "      <td>-0.235473</td>\n",
       "      <td>-0.271743</td>\n",
       "      <td>0.240331</td>\n",
       "      <td>0.300385</td>\n",
       "      <td>-0.073025</td>\n",
       "      <td>-0.463482</td>\n",
       "      <td>1.000000</td>\n",
       "    </tr>\n",
       "  </tbody>\n",
       "</table>\n",
       "</div>"
      ],
      "text/plain": [
       "                      Patient ID       Sex       Age     Grade  \\\n",
       "Patient ID              1.000000  0.246435 -0.109438 -0.171566   \n",
       "Sex                     0.246435  1.000000 -0.143687 -0.533478   \n",
       "Age                    -0.109438 -0.143687  1.000000  0.056643   \n",
       "Grade                  -0.171566 -0.533478  0.056643  1.000000   \n",
       "Histological type       0.119876  0.155115 -0.181037 -0.090088   \n",
       "MSKCC type              0.105951  0.094741 -0.257674  0.007248   \n",
       "Site of primary STS     0.003266 -0.134615 -0.106849  0.174686   \n",
       "Status (NED, AWD, D)   -0.186386 -0.574367  0.121997  0.401017   \n",
       "Treatment               0.178448  0.388646 -0.235473 -0.271743   \n",
       "\n",
       "                      Histological type  MSKCC type  Site of primary STS  \\\n",
       "Patient ID                     0.119876    0.105951             0.003266   \n",
       "Sex                            0.155115    0.094741            -0.134615   \n",
       "Age                           -0.181037   -0.257674            -0.106849   \n",
       "Grade                         -0.090088    0.007248             0.174686   \n",
       "Histological type              1.000000    0.169260             0.026323   \n",
       "MSKCC type                     0.169260    1.000000             0.144186   \n",
       "Site of primary STS            0.026323    0.144186             1.000000   \n",
       "Status (NED, AWD, D)          -0.155588   -0.189790             0.100614   \n",
       "Treatment                      0.240331    0.300385            -0.073025   \n",
       "\n",
       "                      Status (NED, AWD, D)  Treatment  \n",
       "Patient ID                       -0.186386   0.178448  \n",
       "Sex                              -0.574367   0.388646  \n",
       "Age                               0.121997  -0.235473  \n",
       "Grade                             0.401017  -0.271743  \n",
       "Histological type                -0.155588   0.240331  \n",
       "MSKCC type                       -0.189790   0.300385  \n",
       "Site of primary STS               0.100614  -0.073025  \n",
       "Status (NED, AWD, D)              1.000000  -0.463482  \n",
       "Treatment                        -0.463482   1.000000  "
      ]
     },
     "execution_count": 114,
     "metadata": {},
     "output_type": "execute_result"
    }
   ],
   "source": [
    "df.corr()"
   ]
  },
  {
   "cell_type": "code",
   "execution_count": 115,
   "id": "ec7a4f0a",
   "metadata": {},
   "outputs": [
    {
     "data": {
      "text/plain": [
       "<AxesSubplot:>"
      ]
     },
     "execution_count": 115,
     "metadata": {},
     "output_type": "execute_result"
    },
    {
     "data": {
      "image/png": "[encoded data removed]",
      "text/plain": [
       "<Figure size 720x576 with 2 Axes>"
      ]
     },
     "metadata": {},
     "output_type": "display_data"
    }
   ],
   "source": [
    "plt.figure(figsize = (10, 8))\n",
    "sns.heatmap(df.corr(), annot = True, cmap = 'viridis', linewidth = 0.5, fmt = '.1f')"
   ]
  },
  {
   "cell_type": "code",
   "execution_count": 116,
   "id": "7aeb40e4",
   "metadata": {},
   "outputs": [],
   "source": [
    "df.drop_duplicates(inplace=True)"
   ]
  },
  {
   "cell_type": "code",
   "execution_count": 117,
   "id": "8b1baf1b",
   "metadata": {},
   "outputs": [
    {
     "data": {
      "text/plain": [
       "(500, 9)"
      ]
     },
     "execution_count": 117,
     "metadata": {},
     "output_type": "execute_result"
    }
   ],
   "source": [
    "df.shape"
   ]
  },
  {
   "cell_type": "code",
   "execution_count": 118,
   "id": "2310c3b4",
   "metadata": {},
   "outputs": [
    {
     "data": {
      "text/plain": [
       "0"
      ]
     },
     "execution_count": 118,
     "metadata": {},
     "output_type": "execute_result"
    }
   ],
   "source": [
    "df.duplicated().sum()"
   ]
  },
  {
   "cell_type": "code",
   "execution_count": 119,
   "id": "fe5947a5",
   "metadata": {},
   "outputs": [
    {
     "data": {
      "image/png": "[encoded data removed]",
      "text/plain": [
       "<Figure size 432x288 with 1 Axes>"
      ]
     },
     "metadata": {},
     "output_type": "display_data"
    },
    {
     "data": {
      "image/png": "[encoded data removed]",
      "text/plain": [
       "<Figure size 432x288 with 1 Axes>"
      ]
     },
     "metadata": {},
     "output_type": "display_data"
    },
    {
     "data": {
      "image/png": "[encoded data removed]",
      "text/plain": [
       "<Figure size 432x288 with 1 Axes>"
      ]
     },
     "metadata": {},
     "output_type": "display_data"
    },
    {
     "data": {
      "image/png": "[encoded data removed]",
      "text/plain": [
       "<Figure size 432x288 with 1 Axes>"
      ]
     },
     "metadata": {},
     "output_type": "display_data"
    },
    {
     "data": {
      "image/png": "[encoded data removed]",
      "text/plain": [
       "<Figure size 432x288 with 1 Axes>"
      ]
     },
     "metadata": {},
     "output_type": "display_data"
    },
    {
     "data": {
      "image/png": "[encoded data removed]",
      "text/plain": [
       "<Figure size 432x288 with 1 Axes>"
      ]
     },
     "metadata": {},
     "output_type": "display_data"
    },
    {
     "data": {
      "image/png": "[encoded data removed]",
      "text/plain": [
       "<Figure size 432x288 with 1 Axes>"
      ]
     },
     "metadata": {},
     "output_type": "display_data"
    },
    {
     "data": {
      "image/png": "[encoded data removed]",
      "text/plain": [
       "<Figure size 432x288 with 1 Axes>"
      ]
     },
     "metadata": {},
     "output_type": "display_data"
    }
   ],
   "source": [
    "col=['Patient ID',\"Sex\",'Age', 'Histological type', 'MSKCC type',\n",
    "       'Site of primary STS', 'Status (NED, AWD, D)',\"Treatment\"]\n",
    "for c in col:\n",
    "    \n",
    "  plt.figure()\n",
    "  sns.boxplot(y=c,data=df)"
   ]
  },
  {
   "cell_type": "code",
   "execution_count": 120,
   "id": "0ac91975",
   "metadata": {},
   "outputs": [
    {
     "data": {
      "image/png": "[encoded data removed]",
      "text/plain": [
       "<Figure size 864x360 with 2 Axes>"
      ]
     },
     "metadata": {},
     "output_type": "display_data"
    }
   ],
   "source": [
    "plt.figure(figsize=(12,5))\n",
    "plt.subplot(131)\n",
    "sns.distplot(df[\"Age\"],color=\"y\")\n",
    "plt.subplot(132)\n",
    "sns.distplot(df[\"Site of primary STS\"])\n",
    "plt.show()"
   ]
  },
  {
   "cell_type": "code",
   "execution_count": 121,
   "id": "504f5559",
   "metadata": {},
   "outputs": [
    {
     "data": {
      "text/plain": [
       "<AxesSubplot:xlabel='Status (NED, AWD, D)', ylabel='count'>"
      ]
     },
     "execution_count": 121,
     "metadata": {},
     "output_type": "execute_result"
    },
    {
     "data": {
      "image/png": "[encoded data removed]",
      "text/plain": [
       "<Figure size 432x288 with 1 Axes>"
      ]
     },
     "metadata": {},
     "output_type": "display_data"
    }
   ],
   "source": [
    "sns.countplot(x = df['Status (NED, AWD, D)'], palette = 'viridis')"
   ]
  },
  {
   "cell_type": "code",
   "execution_count": 122,
   "id": "41da7d6f",
   "metadata": {},
   "outputs": [],
   "source": [
    "X = df.drop(['Status (NED, AWD, D)'], axis = 1)\n",
    "y = df['Status (NED, AWD, D)']"
   ]
  },
  {
   "cell_type": "code",
   "execution_count": 169,
   "id": "eb436e96",
   "metadata": {},
   "outputs": [],
   "source": [
    "sc= StandardScaler()\n",
    "x = sc.fit_transform(X)\n",
    "import pickle\n",
    "pickle.dump(sc,open(\"sscaler.pkl\",\"wb\"))\n"
   ]
  },
  {
   "cell_type": "code",
   "execution_count": 170,
   "id": "173eab1c",
   "metadata": {},
   "outputs": [
    {
     "data": {
      "text/plain": [
       "array([[-0.20838109, -0.81649658,  0.47184584, ..., -1.31414918,\n",
       "        -0.20798789, -0.76327733],\n",
       "       [ 0.76901613, -0.81649658, -0.08662504, ...,  0.03507996,\n",
       "        -0.71527542,  2.05324418],\n",
       "       [-0.20838109,  1.22474487, -2.07229925, ...,  0.03507996,\n",
       "         0.29929964, -0.76327733],\n",
       "       ...,\n",
       "       [ 0.76901613, -0.81649658,  0.28568888, ...,  1.3843091 ,\n",
       "         1.31387471, -0.76327733],\n",
       "       [ 0.96449557,  1.22474487, -0.76920055, ...,  0.03507996,\n",
       "         1.31387471,  0.64498342],\n",
       "       [ 0.76901613, -0.81649658,  1.09236903, ..., -1.31414918,\n",
       "        -1.72985049, -0.76327733]])"
      ]
     },
     "execution_count": 170,
     "metadata": {},
     "output_type": "execute_result"
    }
   ],
   "source": [
    "x"
   ]
  },
  {
   "cell_type": "code",
   "execution_count": 171,
   "id": "5b8c874a",
   "metadata": {},
   "outputs": [],
   "source": [
    "x = pd.DataFrame(X)"
   ]
  },
  {
   "cell_type": "code",
   "execution_count": 172,
   "id": "45e99a42",
   "metadata": {},
   "outputs": [],
   "source": [
    "from imblearn.over_sampling import SMOTE\n",
    "# Apply SMOTE to balance the classes\n",
    "smote = SMOTE(sampling_strategy='auto', random_state=42)\n",
    "\n",
    "x_bal, y_bal = smote.fit_resample(x, y)"
   ]
  },
  {
   "cell_type": "code",
   "execution_count": 173,
   "id": "b06ed5e7",
   "metadata": {},
   "outputs": [],
   "source": [
    "# Split the dataset into train and test sets\n",
    "X_train, X_test, y_train, y_test = train_test_split(x_bal, y_bal, test_size=0.3, random_state=42)"
   ]
  },
  {
   "cell_type": "code",
   "execution_count": 174,
   "id": "046c3f92",
   "metadata": {},
   "outputs": [
    {
     "name": "stdout",
     "output_type": "stream",
     "text": [
      "(518, 8)\n",
      "(223, 8)\n",
      "(518,)\n",
      "(223,)\n"
     ]
    }
   ],
   "source": [
    "print(X_train.shape)\n",
    "print(X_test.shape)\n",
    "print(y_train.shape)\n",
    "print(y_test.shape)"
   ]
  },
  {
   "cell_type": "code",
   "execution_count": 175,
   "id": "a5fc93a2",
   "metadata": {},
   "outputs": [],
   "source": [
    "from keras.models import Sequential\n",
    "from keras.layers import Dense\n",
    "from sklearn.neural_network import MLPClassifier\n",
    "\n",
    "from sklearn.metrics import classification_report"
   ]
  },
  {
   "cell_type": "code",
   "execution_count": 176,
   "id": "6fcf172e",
   "metadata": {},
   "outputs": [
    {
     "data": {
      "text/plain": [
       "MLPClassifier(hidden_layer_sizes=(64, 32), max_iter=1000, random_state=42)"
      ]
     },
     "execution_count": 176,
     "metadata": {},
     "output_type": "execute_result"
    }
   ],
   "source": [
    "model = MLPClassifier(hidden_layer_sizes=(64, 32), activation='relu', max_iter=1000, random_state=42)\n",
    "model.fit(X_train, y_train)\n"
   ]
  },
  {
   "cell_type": "code",
   "execution_count": 177,
   "id": "30ce7aa8",
   "metadata": {},
   "outputs": [],
   "source": [
    "y_pred = model.predict(X_test)\n",
    "y_train_pred = model.predict(X_train)"
   ]
  },
  {
   "cell_type": "code",
   "execution_count": 178,
   "id": "116a55a5",
   "metadata": {},
   "outputs": [
    {
     "data": {
      "text/plain": [
       "array([2, 1, 2, 0, 0, 0, 0, 0, 2, 1, 0, 0, 2, 0, 2, 2, 1, 2, 2, 2, 2, 2,\n",
       "       1, 2, 1, 2, 2, 0, 2, 1, 0, 1, 0, 0, 1, 2, 2, 2, 1, 1, 0, 2, 2, 0,\n",
       "       2, 1, 1, 1, 0, 1, 1, 0, 1, 2, 2, 1, 2, 0, 2, 0, 0, 0, 0, 0, 0, 2,\n",
       "       0, 1, 2, 2, 1, 2, 2, 2, 0, 0, 2, 0, 1, 0, 2, 1, 1, 0, 1, 2, 2, 2,\n",
       "       2, 1, 2, 1, 2, 0, 2, 1, 1, 0, 1, 1, 0, 1, 2, 1, 0, 2, 1, 0, 0, 1,\n",
       "       0, 0, 2, 1, 0, 0, 1, 2, 0, 1, 0, 0, 2, 2, 0, 1, 0, 0, 1, 0, 0, 0,\n",
       "       1, 1, 0, 2, 2, 0, 2, 2, 2, 2, 0, 2, 1, 1, 0, 2, 2, 2, 2, 0, 2, 2,\n",
       "       0, 2, 0, 0, 2, 1, 0, 2, 0, 2, 0, 0, 2, 1, 1, 1, 2, 1, 1, 1, 1, 2,\n",
       "       2, 0, 0, 1, 0, 2, 0, 2, 0, 2, 2, 2, 2, 2, 0, 2, 0, 0, 2, 1, 2, 2,\n",
       "       1, 1, 2, 0, 2, 2, 0, 0, 0, 2, 1, 0, 1, 0, 2, 1, 2, 2, 0, 2, 2, 0,\n",
       "       0, 0, 0])"
      ]
     },
     "execution_count": 178,
     "metadata": {},
     "output_type": "execute_result"
    }
   ],
   "source": [
    "y_pred"
   ]
  },
  {
   "cell_type": "code",
   "execution_count": 179,
   "id": "bc3052e5",
   "metadata": {},
   "outputs": [
    {
     "data": {
      "text/plain": [
       "array([0, 2, 2, 1, 2, 2, 0, 2, 1, 2, 1, 2, 0, 0, 2, 0, 2, 1, 2, 2, 2, 2,\n",
       "       0, 2, 0, 0, 2, 2, 2, 2, 0, 1, 0, 1, 1, 2, 0, 2, 1, 2, 1, 0, 0, 2,\n",
       "       2, 0, 1, 0, 0, 0, 0, 2, 0, 2, 0, 0, 2, 0, 1, 2, 0, 2, 0, 0, 0, 0,\n",
       "       1, 0, 0, 1, 1, 0, 0, 0, 2, 0, 0, 2, 0, 0, 1, 1, 2, 0, 2, 2, 0, 2,\n",
       "       0, 1, 2, 0, 2, 1, 2, 1, 0, 1, 0, 1, 0, 2, 0, 1, 0, 2, 0, 0, 0, 0,\n",
       "       2, 1, 2, 2, 2, 2, 2, 1, 1, 2, 1, 0, 0, 2, 0, 1, 2, 0, 2, 0, 2, 2,\n",
       "       0, 1, 0, 1, 0, 2, 0, 2, 2, 1, 1, 1, 1, 0, 2, 0, 2, 1, 1, 2, 0, 1,\n",
       "       2, 2, 0, 1, 1, 2, 1, 0, 0, 2, 1, 2, 0, 0, 2, 0, 2, 2, 1, 2, 1, 0,\n",
       "       1, 0, 0, 2, 1, 2, 1, 2, 2, 2, 2, 2, 2, 2, 1, 2, 0, 1, 1, 1, 1, 1,\n",
       "       1, 2, 2, 2, 0, 0, 0, 1, 2, 1, 1, 2, 1, 0, 2, 2, 1, 1, 2, 2, 0, 1,\n",
       "       1, 1, 2, 2, 0, 2, 1, 2, 0, 1, 1, 0, 0, 2, 2, 1, 1, 2, 2, 0, 1, 0,\n",
       "       2, 2, 2, 0, 0, 0, 2, 0, 0, 1, 0, 0, 1, 2, 0, 0, 0, 0, 0, 2, 0, 0,\n",
       "       2, 2, 0, 0, 2, 0, 2, 0, 1, 0, 0, 0, 2, 2, 0, 2, 1, 2, 2, 1, 2, 0,\n",
       "       0, 0, 0, 2, 2, 2, 1, 2, 0, 0, 0, 2, 2, 0, 2, 2, 2, 2, 2, 0, 1, 2,\n",
       "       2, 0, 2, 2, 2, 2, 1, 2, 2, 1, 0, 1, 1, 1, 2, 2, 2, 2, 2, 1, 2, 1,\n",
       "       2, 0, 0, 2, 0, 0, 1, 0, 2, 1, 1, 1, 2, 0, 1, 1, 2, 0, 2, 1, 0, 1,\n",
       "       2, 0, 0, 2, 2, 0, 1, 2, 1, 0, 0, 1, 0, 1, 1, 0, 0, 1, 1, 1, 0, 0,\n",
       "       0, 1, 2, 0, 0, 2, 1, 0, 0, 2, 1, 0, 0, 0, 0, 2, 0, 1, 2, 1, 2, 0,\n",
       "       0, 0, 1, 0, 0, 1, 0, 2, 0, 2, 2, 2, 2, 2, 0, 2, 1, 2, 2, 0, 2, 2,\n",
       "       1, 1, 0, 0, 2, 1, 0, 2, 0, 2, 0, 1, 0, 2, 1, 2, 2, 2, 0, 1, 2, 1,\n",
       "       2, 0, 0, 0, 1, 2, 0, 0, 0, 1, 1, 0, 0, 2, 2, 0, 1, 0, 0, 2, 1, 2,\n",
       "       2, 1, 2, 1, 0, 2, 2, 2, 0, 1, 2, 2, 0, 0, 0, 0, 1, 2, 1, 1, 0, 2,\n",
       "       2, 2, 0, 1, 0, 2, 2, 1, 0, 1, 1, 2, 1, 2, 2, 2, 1, 1, 0, 2, 2, 1,\n",
       "       0, 0, 2, 2, 0, 2, 2, 1, 2, 0, 1, 2])"
      ]
     },
     "execution_count": 179,
     "metadata": {},
     "output_type": "execute_result"
    }
   ],
   "source": [
    "y_train_pred"
   ]
  },
  {
   "cell_type": "code",
   "execution_count": 180,
   "id": "952cce83",
   "metadata": {},
   "outputs": [],
   "source": [
    "Testreport = classification_report(y_test, y_pred)\n",
    "Trainreport = classification_report(y_train, y_train_pred)"
   ]
  },
  {
   "cell_type": "code",
   "execution_count": 181,
   "id": "ec31d994",
   "metadata": {},
   "outputs": [
    {
     "name": "stdout",
     "output_type": "stream",
     "text": [
      "              precision    recall  f1-score   support\n",
      "\n",
      "           0       0.74      0.81      0.77       169\n",
      "           1       0.79      0.58      0.67       181\n",
      "           2       0.69      0.82      0.74       168\n",
      "\n",
      "    accuracy                           0.73       518\n",
      "   macro avg       0.74      0.74      0.73       518\n",
      "weighted avg       0.74      0.73      0.73       518\n",
      "\n",
      "              precision    recall  f1-score   support\n",
      "\n",
      "           0       0.73      0.74      0.74        78\n",
      "           1       0.51      0.44      0.47        66\n",
      "           2       0.66      0.72      0.69        79\n",
      "\n",
      "    accuracy                           0.65       223\n",
      "   macro avg       0.63      0.63      0.63       223\n",
      "weighted avg       0.64      0.65      0.64       223\n",
      "\n"
     ]
    }
   ],
   "source": [
    "print(Trainreport)\n",
    "print(Testreport)\n"
   ]
  },
  {
   "cell_type": "code",
   "execution_count": 136,
   "id": "41da18f3",
   "metadata": {
    "scrolled": true
   },
   "outputs": [],
   "source": [
    "from sklearn.model_selection import GridSearchCV, RandomizedSearchCV\n",
    "\n",
    "param_grid = {\n",
    "    'hidden_layer_sizes': [(64, 32), (128, 64), (32, 32, 16)],\n",
    "    'activation': ['relu', 'tanh'],\n",
    "    'alpha': [0.0001, 0.001, 0.01],\n",
    "    'learning_rate': ['constant', 'adaptive'],\n",
    "    'max_iter': [100, 200, 300],\n",
    "}"
   ]
  },
  {
   "cell_type": "code",
   "execution_count": 168,
   "id": "b0711702",
   "metadata": {},
   "outputs": [
    {
     "name": "stdout",
     "output_type": "stream",
     "text": [
      "Train Accuracy: 78.96%\n",
      "Test Accuracy: 63.23%\n"
     ]
    }
   ],
   "source": [
    "# Random Search\n",
    "random_search = RandomizedSearchCV(MLPClassifier(), param_distributions=param_grid, n_iter=10, scoring='accuracy', cv=5)\n",
    "random_search.fit(X_train, y_train)\n",
    "best_model1 = random_search.best_estimator_\n",
    "test_acc = best_model1.score(X_test, y_test)\n",
    "train_acc = best_model1.score(X_train, y_train) \n",
    "print(f'Train Accuracy: {train_acc*100:.2f}%')\n",
    "test_acc = best_model1.score(X_test, y_test) \n",
    "print(f'Test Accuracy: {test_acc*100:.2f}%')"
   ]
  },
  {
   "cell_type": "code",
   "execution_count": 137,
   "id": "8e0944a4",
   "metadata": {},
   "outputs": [
    {
     "data": {
      "text/plain": [
       "GridSearchCV(cv=5, estimator=MLPClassifier(),\n",
       "             param_grid={'activation': ['relu', 'tanh'],\n",
       "                         'alpha': [0.0001, 0.001, 0.01],\n",
       "                         'hidden_layer_sizes': [(64, 32), (128, 64),\n",
       "                                                (32, 32, 16)],\n",
       "                         'learning_rate': ['constant', 'adaptive'],\n",
       "                         'max_iter': [100, 200, 300]},\n",
       "             scoring='accuracy')"
      ]
     },
     "execution_count": 137,
     "metadata": {},
     "output_type": "execute_result"
    }
   ],
   "source": [
    "# Grid Search\n",
    "grid_search = GridSearchCV(MLPClassifier(), param_grid, scoring='accuracy', cv=5)\n",
    "grid_search.fit(X_train, y_train)"
   ]
  },
  {
   "cell_type": "code",
   "execution_count": 138,
   "id": "0a35b18f",
   "metadata": {},
   "outputs": [],
   "source": [
    "best_model = grid_search.best_estimator_  "
   ]
  },
  {
   "cell_type": "code",
   "execution_count": 139,
   "id": "b7295731",
   "metadata": {},
   "outputs": [
    {
     "name": "stdout",
     "output_type": "stream",
     "text": [
      "Test Accuracy: 62.78%\n"
     ]
    }
   ],
   "source": [
    "test_accuracy = best_model.score(X_test, y_test)\n",
    "print(f'Test Accuracy: {test_accuracy*100:.2f}%')"
   ]
  },
  {
   "cell_type": "code",
   "execution_count": 140,
   "id": "80e480c6",
   "metadata": {},
   "outputs": [
    {
     "name": "stdout",
     "output_type": "stream",
     "text": [
      "Train Accuracy: 71.62%\n"
     ]
    }
   ],
   "source": [
    "train_accuracy = best_model.score(X_train, y_train)\n",
    "print(f'Train Accuracy: {train_accuracy*100:.2f}%')"
   ]
  },
  {
   "cell_type": "code",
   "execution_count": 141,
   "id": "7f55696c",
   "metadata": {},
   "outputs": [
    {
     "data": {
      "text/html": [
       "<div>\n",
       "<style scoped>\n",
       "    .dataframe tbody tr th:only-of-type {\n",
       "        vertical-align: middle;\n",
       "    }\n",
       "\n",
       "    .dataframe tbody tr th {\n",
       "        vertical-align: top;\n",
       "    }\n",
       "\n",
       "    .dataframe thead th {\n",
       "        text-align: right;\n",
       "    }\n",
       "</style>\n",
       "<table border=\"1\" class=\"dataframe\">\n",
       "  <thead>\n",
       "    <tr style=\"text-align: right;\">\n",
       "      <th></th>\n",
       "      <th>Patient ID</th>\n",
       "      <th>Sex</th>\n",
       "      <th>Age</th>\n",
       "      <th>Grade</th>\n",
       "      <th>Histological type</th>\n",
       "      <th>MSKCC type</th>\n",
       "      <th>Site of primary STS</th>\n",
       "      <th>Status (NED, AWD, D)</th>\n",
       "      <th>Treatment</th>\n",
       "    </tr>\n",
       "  </thead>\n",
       "  <tbody>\n",
       "    <tr>\n",
       "      <th>0</th>\n",
       "      <td>8</td>\n",
       "      <td>0</td>\n",
       "      <td>63</td>\n",
       "      <td>0</td>\n",
       "      <td>5</td>\n",
       "      <td>0</td>\n",
       "      <td>3</td>\n",
       "      <td>2</td>\n",
       "      <td>0</td>\n",
       "    </tr>\n",
       "    <tr>\n",
       "      <th>1</th>\n",
       "      <td>13</td>\n",
       "      <td>0</td>\n",
       "      <td>54</td>\n",
       "      <td>1</td>\n",
       "      <td>5</td>\n",
       "      <td>1</td>\n",
       "      <td>2</td>\n",
       "      <td>1</td>\n",
       "      <td>2</td>\n",
       "    </tr>\n",
       "    <tr>\n",
       "      <th>2</th>\n",
       "      <td>8</td>\n",
       "      <td>1</td>\n",
       "      <td>22</td>\n",
       "      <td>1</td>\n",
       "      <td>10</td>\n",
       "      <td>1</td>\n",
       "      <td>4</td>\n",
       "      <td>1</td>\n",
       "      <td>0</td>\n",
       "    </tr>\n",
       "    <tr>\n",
       "      <th>3</th>\n",
       "      <td>5</td>\n",
       "      <td>0</td>\n",
       "      <td>54</td>\n",
       "      <td>1</td>\n",
       "      <td>10</td>\n",
       "      <td>0</td>\n",
       "      <td>6</td>\n",
       "      <td>2</td>\n",
       "      <td>0</td>\n",
       "    </tr>\n",
       "    <tr>\n",
       "      <th>4</th>\n",
       "      <td>14</td>\n",
       "      <td>1</td>\n",
       "      <td>63</td>\n",
       "      <td>0</td>\n",
       "      <td>6</td>\n",
       "      <td>1</td>\n",
       "      <td>5</td>\n",
       "      <td>0</td>\n",
       "      <td>1</td>\n",
       "    </tr>\n",
       "  </tbody>\n",
       "</table>\n",
       "</div>"
      ],
      "text/plain": [
       "   Patient ID  Sex  Age  Grade  Histological type  MSKCC type  \\\n",
       "0           8    0   63      0                  5           0   \n",
       "1          13    0   54      1                  5           1   \n",
       "2           8    1   22      1                 10           1   \n",
       "3           5    0   54      1                 10           0   \n",
       "4          14    1   63      0                  6           1   \n",
       "\n",
       "   Site of primary STS  Status (NED, AWD, D)  Treatment  \n",
       "0                    3                     2          0  \n",
       "1                    2                     1          2  \n",
       "2                    4                     1          0  \n",
       "3                    6                     2          0  \n",
       "4                    5                     0          1  "
      ]
     },
     "execution_count": 141,
     "metadata": {},
     "output_type": "execute_result"
    }
   ],
   "source": [
    "df.head(5)"
   ]
  },
  {
   "cell_type": "code",
   "execution_count": 196,
   "id": "6cfc1695",
   "metadata": {},
   "outputs": [
    {
     "data": {
      "text/plain": [
       "array([2])"
      ]
     },
     "execution_count": 196,
     "metadata": {},
     "output_type": "execute_result"
    }
   ],
   "source": [
    "## Tesing\n",
    "\n",
    "best_model1.predict([[8,0,63,0,5,0,3,0]])"
   ]
  },
  {
   "cell_type": "code",
   "execution_count": 197,
   "id": "7ab64112",
   "metadata": {},
   "outputs": [
    {
     "data": {
      "text/plain": [
       "array([1])"
      ]
     },
     "execution_count": 197,
     "metadata": {},
     "output_type": "execute_result"
    }
   ],
   "source": [
    "best_model1.predict([[13,0,54,1,5,1,2,2]])"
   ]
  },
  {
   "cell_type": "code",
   "execution_count": 198,
   "id": "f9fb6ed2",
   "metadata": {},
   "outputs": [
    {
     "data": {
      "text/plain": [
       "array([0])"
      ]
     },
     "execution_count": 198,
     "metadata": {},
     "output_type": "execute_result"
    }
   ],
   "source": [
    "best_model1.predict([[14,1,63,0,6,1,5,1]])"
   ]
  },
  {
   "cell_type": "code",
   "execution_count": 189,
   "id": "f9f68767",
   "metadata": {},
   "outputs": [],
   "source": [
    "Patient_ID=8\n",
    "Sex=0\n",
    "Age=63\n",
    "Grade=0\n",
    "Histological_type=5\n",
    "MSKCC_type=0\n",
    "Site_of_primary_STS=3\n",
    "Treatment=0"
   ]
  },
  {
   "cell_type": "code",
   "execution_count": 193,
   "id": "5cdd6849",
   "metadata": {},
   "outputs": [
    {
     "data": {
      "text/plain": [
       "array([2])"
      ]
     },
     "execution_count": 193,
     "metadata": {},
     "output_type": "execute_result"
    }
   ],
   "source": [
    "names = [[Patient_ID,Sex,Age,Grade,Histological_type,MSKCC_type,Site_of_primary_STS,Treatment]]\n",
    "model.predict(sc.transform(names))\n"
   ]
  },
  {
   "cell_type": "code",
   "execution_count": 199,
   "id": "b7a4b7d8",
   "metadata": {},
   "outputs": [],
   "source": [
    "import pickle\n",
    "pickle.dump(best_model1,open(\"model.pkl\",\"wb\"))"
   ]
  }
 ],
 "metadata": {
  "kernelspec": {
   "display_name": "Python 3 (ipykernel)",
   "language": "python",
   "name": "python3"
  },
  "language_info": {
   "codemirror_mode": {
    "name": "ipython",
    "version": 3
   },
   "file_extension": ".py",
   "mimetype": "text/x-python",
   "name": "python",
   "nbconvert_exporter": "python",
   "pygments_lexer": "ipython3",
   "version": "3.9.12"
  }
 },
 "nbformat": 4,
 "nbformat_minor": 5
}
